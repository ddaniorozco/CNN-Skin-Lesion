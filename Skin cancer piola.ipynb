{
 "cells": [
  {
   "cell_type": "code",
   "execution_count": 1,
   "metadata": {},
   "outputs": [],
   "source": [
    "from numpy.random import seed\n",
    "seed(101)\n",
    "import tensorflow\n",
    "tensorflow.random.set_seed(101)"
   ]
  },
  {
   "cell_type": "code",
   "execution_count": 140,
   "metadata": {},
   "outputs": [],
   "source": [
    "import numpy as np\n",
    "import pandas as pd\n",
    "\n",
    "import tensorflow as tf\n",
    "from tensorflow.keras.layers import Dense, Dropout\n",
    "from tensorflow.keras.optimizers import Adam\n",
    "from tensorflow.keras.metrics import categorical_crossentropy\n",
    "from tensorflow.keras.preprocessing.image import ImageDataGenerator\n",
    "from tensorflow.keras.models import Model\n",
    "from tensorflow.keras.callbacks import EarlyStopping, ReduceLROnPlateau, ModelCheckpoint\n",
    "from tensorflow.keras.metrics import categorical_accuracy, top_k_categorical_accuracy\n",
    "\n",
    "import os\n",
    "\n",
    "from sklearn.metrics import confusion_matrix\n",
    "from sklearn.model_selection import train_test_split\n",
    "from sklearn.metrics import classification_report\n",
    "import itertools\n",
    "import shutil\n",
    "import matplotlib.pyplot as plt\n",
    "%matplotlib inline\n",
    "import seaborn as sns"
   ]
  },
  {
   "cell_type": "code",
   "execution_count": 3,
   "metadata": {
    "scrolled": true
   },
   "outputs": [
    {
     "data": {
      "text/plain": [
       "['hmnist_8_8_L.csv',\n",
       " 'Skin cancer piola.ipynb',\n",
       " 'dir_imagess',\n",
       " 'ham10000_images_part_2',\n",
       " 'model.h5',\n",
       " 'ham10000_images_part_1',\n",
       " '.ipynb_checkpoints',\n",
       " 'hmnist_8_8_RGB.csv',\n",
       " 'hmnist_28_28_L.csv',\n",
       " 'dir_images',\n",
       " 'hmnist_28_28_RGB.csv',\n",
       " 'HAM10000_metadata.csv']"
      ]
     },
     "execution_count": 3,
     "metadata": {},
     "output_type": "execute_result"
    }
   ],
   "source": [
    "os.listdir ('../Skin Cancer 2')"
   ]
  },
  {
   "cell_type": "code",
   "execution_count": 5,
   "metadata": {},
   "outputs": [],
   "source": [
    "# Crear un directorio\n",
    "\n",
    "dir_images = 'dir_images'\n",
    "os.mkdir (dir_images)\n",
    "\n",
    "# Crear dentro del directorio las carpetas train y val\n",
    "\n",
    "train_images = os.path.join (dir_images, 'train_images')\n",
    "os.mkdir (train_images)\n",
    "\n",
    "val_images = os.path.join (dir_images, 'val_images')\n",
    "os.mkdir (val_images)\n",
    "\n",
    "# Crear dentro de train y val 7 carpetas (cada diagnostico)\n",
    "\n",
    "nv = os.path.join(train_images, 'nv')\n",
    "os.mkdir(nv)\n",
    "mel = os.path.join(train_images, 'mel')\n",
    "os.mkdir(mel)\n",
    "bkl = os.path.join(train_images, 'bkl')\n",
    "os.mkdir(bkl)\n",
    "bcc = os.path.join(train_images, 'bcc')\n",
    "os.mkdir(bcc)\n",
    "akiec = os.path.join(train_images, 'akiec')\n",
    "os.mkdir(akiec)\n",
    "vasc = os.path.join(train_images, 'vasc')\n",
    "os.mkdir(vasc)\n",
    "df = os.path.join(train_images, 'df')\n",
    "os.mkdir(df)\n",
    "\n",
    "nv = os.path.join(val_images, 'nv')\n",
    "os.mkdir(nv)\n",
    "mel = os.path.join(val_images, 'mel')\n",
    "os.mkdir(mel)\n",
    "bkl = os.path.join(val_images, 'bkl')\n",
    "os.mkdir(bkl)\n",
    "bcc = os.path.join(val_images, 'bcc')\n",
    "os.mkdir(bcc)\n",
    "akiec = os.path.join(val_images, 'akiec')\n",
    "os.mkdir(akiec)\n",
    "vasc = os.path.join(val_images, 'vasc')\n",
    "os.mkdir(vasc)\n",
    "df = os.path.join(val_images, 'df')\n",
    "os.mkdir(df)\n"
   ]
  },
  {
   "cell_type": "code",
   "execution_count": 4,
   "metadata": {},
   "outputs": [],
   "source": [
    "df_skin = pd.read_csv ('HAM10000_metadata.csv')"
   ]
  },
  {
   "cell_type": "code",
   "execution_count": 5,
   "metadata": {},
   "outputs": [
    {
     "data": {
      "text/html": [
       "<div>\n",
       "<style scoped>\n",
       "    .dataframe tbody tr th:only-of-type {\n",
       "        vertical-align: middle;\n",
       "    }\n",
       "\n",
       "    .dataframe tbody tr th {\n",
       "        vertical-align: top;\n",
       "    }\n",
       "\n",
       "    .dataframe thead th {\n",
       "        text-align: right;\n",
       "    }\n",
       "</style>\n",
       "<table border=\"1\" class=\"dataframe\">\n",
       "  <thead>\n",
       "    <tr style=\"text-align: right;\">\n",
       "      <th></th>\n",
       "      <th>lesion_id</th>\n",
       "      <th>image_id</th>\n",
       "      <th>dx</th>\n",
       "      <th>dx_type</th>\n",
       "      <th>age</th>\n",
       "      <th>sex</th>\n",
       "      <th>localization</th>\n",
       "    </tr>\n",
       "  </thead>\n",
       "  <tbody>\n",
       "    <tr>\n",
       "      <th>0</th>\n",
       "      <td>HAM_0000118</td>\n",
       "      <td>ISIC_0027419</td>\n",
       "      <td>bkl</td>\n",
       "      <td>histo</td>\n",
       "      <td>80.0</td>\n",
       "      <td>male</td>\n",
       "      <td>scalp</td>\n",
       "    </tr>\n",
       "    <tr>\n",
       "      <th>1</th>\n",
       "      <td>HAM_0000118</td>\n",
       "      <td>ISIC_0025030</td>\n",
       "      <td>bkl</td>\n",
       "      <td>histo</td>\n",
       "      <td>80.0</td>\n",
       "      <td>male</td>\n",
       "      <td>scalp</td>\n",
       "    </tr>\n",
       "    <tr>\n",
       "      <th>2</th>\n",
       "      <td>HAM_0002730</td>\n",
       "      <td>ISIC_0026769</td>\n",
       "      <td>bkl</td>\n",
       "      <td>histo</td>\n",
       "      <td>80.0</td>\n",
       "      <td>male</td>\n",
       "      <td>scalp</td>\n",
       "    </tr>\n",
       "    <tr>\n",
       "      <th>3</th>\n",
       "      <td>HAM_0002730</td>\n",
       "      <td>ISIC_0025661</td>\n",
       "      <td>bkl</td>\n",
       "      <td>histo</td>\n",
       "      <td>80.0</td>\n",
       "      <td>male</td>\n",
       "      <td>scalp</td>\n",
       "    </tr>\n",
       "    <tr>\n",
       "      <th>4</th>\n",
       "      <td>HAM_0001466</td>\n",
       "      <td>ISIC_0031633</td>\n",
       "      <td>bkl</td>\n",
       "      <td>histo</td>\n",
       "      <td>75.0</td>\n",
       "      <td>male</td>\n",
       "      <td>ear</td>\n",
       "    </tr>\n",
       "  </tbody>\n",
       "</table>\n",
       "</div>"
      ],
      "text/plain": [
       "     lesion_id      image_id   dx dx_type   age   sex localization\n",
       "0  HAM_0000118  ISIC_0027419  bkl   histo  80.0  male        scalp\n",
       "1  HAM_0000118  ISIC_0025030  bkl   histo  80.0  male        scalp\n",
       "2  HAM_0002730  ISIC_0026769  bkl   histo  80.0  male        scalp\n",
       "3  HAM_0002730  ISIC_0025661  bkl   histo  80.0  male        scalp\n",
       "4  HAM_0001466  ISIC_0031633  bkl   histo  75.0  male          ear"
      ]
     },
     "execution_count": 5,
     "metadata": {},
     "output_type": "execute_result"
    }
   ],
   "source": [
    "df_skin.head ()"
   ]
  },
  {
   "cell_type": "code",
   "execution_count": 7,
   "metadata": {},
   "outputs": [
    {
     "data": {
      "text/html": [
       "<div>\n",
       "<style scoped>\n",
       "    .dataframe tbody tr th:only-of-type {\n",
       "        vertical-align: middle;\n",
       "    }\n",
       "\n",
       "    .dataframe tbody tr th {\n",
       "        vertical-align: top;\n",
       "    }\n",
       "\n",
       "    .dataframe thead th {\n",
       "        text-align: right;\n",
       "    }\n",
       "</style>\n",
       "<table border=\"1\" class=\"dataframe\">\n",
       "  <thead>\n",
       "    <tr style=\"text-align: right;\">\n",
       "      <th></th>\n",
       "      <th>image_id</th>\n",
       "      <th>dx</th>\n",
       "      <th>dx_type</th>\n",
       "      <th>age</th>\n",
       "      <th>sex</th>\n",
       "      <th>localization</th>\n",
       "    </tr>\n",
       "    <tr>\n",
       "      <th>lesion_id</th>\n",
       "      <th></th>\n",
       "      <th></th>\n",
       "      <th></th>\n",
       "      <th></th>\n",
       "      <th></th>\n",
       "      <th></th>\n",
       "    </tr>\n",
       "  </thead>\n",
       "  <tbody>\n",
       "    <tr>\n",
       "      <th>HAM_0000000</th>\n",
       "      <td>2</td>\n",
       "      <td>2</td>\n",
       "      <td>2</td>\n",
       "      <td>2</td>\n",
       "      <td>2</td>\n",
       "      <td>2</td>\n",
       "    </tr>\n",
       "    <tr>\n",
       "      <th>HAM_0000001</th>\n",
       "      <td>1</td>\n",
       "      <td>1</td>\n",
       "      <td>1</td>\n",
       "      <td>1</td>\n",
       "      <td>1</td>\n",
       "      <td>1</td>\n",
       "    </tr>\n",
       "    <tr>\n",
       "      <th>HAM_0000002</th>\n",
       "      <td>3</td>\n",
       "      <td>3</td>\n",
       "      <td>3</td>\n",
       "      <td>3</td>\n",
       "      <td>3</td>\n",
       "      <td>3</td>\n",
       "    </tr>\n",
       "    <tr>\n",
       "      <th>HAM_0000003</th>\n",
       "      <td>1</td>\n",
       "      <td>1</td>\n",
       "      <td>1</td>\n",
       "      <td>1</td>\n",
       "      <td>1</td>\n",
       "      <td>1</td>\n",
       "    </tr>\n",
       "    <tr>\n",
       "      <th>HAM_0000004</th>\n",
       "      <td>1</td>\n",
       "      <td>1</td>\n",
       "      <td>1</td>\n",
       "      <td>1</td>\n",
       "      <td>1</td>\n",
       "      <td>1</td>\n",
       "    </tr>\n",
       "    <tr>\n",
       "      <th>...</th>\n",
       "      <td>...</td>\n",
       "      <td>...</td>\n",
       "      <td>...</td>\n",
       "      <td>...</td>\n",
       "      <td>...</td>\n",
       "      <td>...</td>\n",
       "    </tr>\n",
       "    <tr>\n",
       "      <th>HAM_0007624</th>\n",
       "      <td>1</td>\n",
       "      <td>1</td>\n",
       "      <td>1</td>\n",
       "      <td>1</td>\n",
       "      <td>1</td>\n",
       "      <td>1</td>\n",
       "    </tr>\n",
       "    <tr>\n",
       "      <th>HAM_0007625</th>\n",
       "      <td>2</td>\n",
       "      <td>2</td>\n",
       "      <td>2</td>\n",
       "      <td>2</td>\n",
       "      <td>2</td>\n",
       "      <td>2</td>\n",
       "    </tr>\n",
       "    <tr>\n",
       "      <th>HAM_0007626</th>\n",
       "      <td>1</td>\n",
       "      <td>1</td>\n",
       "      <td>1</td>\n",
       "      <td>1</td>\n",
       "      <td>1</td>\n",
       "      <td>1</td>\n",
       "    </tr>\n",
       "    <tr>\n",
       "      <th>HAM_0007627</th>\n",
       "      <td>2</td>\n",
       "      <td>2</td>\n",
       "      <td>2</td>\n",
       "      <td>2</td>\n",
       "      <td>2</td>\n",
       "      <td>2</td>\n",
       "    </tr>\n",
       "    <tr>\n",
       "      <th>HAM_0007628</th>\n",
       "      <td>1</td>\n",
       "      <td>1</td>\n",
       "      <td>1</td>\n",
       "      <td>1</td>\n",
       "      <td>1</td>\n",
       "      <td>1</td>\n",
       "    </tr>\n",
       "  </tbody>\n",
       "</table>\n",
       "<p>7470 rows × 6 columns</p>\n",
       "</div>"
      ],
      "text/plain": [
       "             image_id  dx  dx_type  age  sex  localization\n",
       "lesion_id                                                 \n",
       "HAM_0000000         2   2        2    2    2             2\n",
       "HAM_0000001         1   1        1    1    1             1\n",
       "HAM_0000002         3   3        3    3    3             3\n",
       "HAM_0000003         1   1        1    1    1             1\n",
       "HAM_0000004         1   1        1    1    1             1\n",
       "...               ...  ..      ...  ...  ...           ...\n",
       "HAM_0007624         1   1        1    1    1             1\n",
       "HAM_0007625         2   2        2    2    2             2\n",
       "HAM_0007626         1   1        1    1    1             1\n",
       "HAM_0007627         2   2        2    2    2             2\n",
       "HAM_0007628         1   1        1    1    1             1\n",
       "\n",
       "[7470 rows x 6 columns]"
      ]
     },
     "execution_count": 7,
     "metadata": {},
     "output_type": "execute_result"
    }
   ],
   "source": [
    "# cuantas imágenes estan asociadas a lesion id\n",
    "\n",
    "df_skin.groupby ('lesion_id').count ()"
   ]
  },
  {
   "cell_type": "code",
   "execution_count": 8,
   "metadata": {},
   "outputs": [],
   "source": [
    "df = df_skin.groupby ('lesion_id').count ()"
   ]
  },
  {
   "cell_type": "code",
   "execution_count": 9,
   "metadata": {},
   "outputs": [],
   "source": [
    "df = df [df ['image_id'] == 1]"
   ]
  },
  {
   "cell_type": "code",
   "execution_count": 10,
   "metadata": {},
   "outputs": [
    {
     "data": {
      "text/html": [
       "<div>\n",
       "<style scoped>\n",
       "    .dataframe tbody tr th:only-of-type {\n",
       "        vertical-align: middle;\n",
       "    }\n",
       "\n",
       "    .dataframe tbody tr th {\n",
       "        vertical-align: top;\n",
       "    }\n",
       "\n",
       "    .dataframe thead th {\n",
       "        text-align: right;\n",
       "    }\n",
       "</style>\n",
       "<table border=\"1\" class=\"dataframe\">\n",
       "  <thead>\n",
       "    <tr style=\"text-align: right;\">\n",
       "      <th></th>\n",
       "      <th>image_id</th>\n",
       "      <th>dx</th>\n",
       "      <th>dx_type</th>\n",
       "      <th>age</th>\n",
       "      <th>sex</th>\n",
       "      <th>localization</th>\n",
       "    </tr>\n",
       "    <tr>\n",
       "      <th>lesion_id</th>\n",
       "      <th></th>\n",
       "      <th></th>\n",
       "      <th></th>\n",
       "      <th></th>\n",
       "      <th></th>\n",
       "      <th></th>\n",
       "    </tr>\n",
       "  </thead>\n",
       "  <tbody>\n",
       "    <tr>\n",
       "      <th>HAM_0000001</th>\n",
       "      <td>1</td>\n",
       "      <td>1</td>\n",
       "      <td>1</td>\n",
       "      <td>1</td>\n",
       "      <td>1</td>\n",
       "      <td>1</td>\n",
       "    </tr>\n",
       "    <tr>\n",
       "      <th>HAM_0000003</th>\n",
       "      <td>1</td>\n",
       "      <td>1</td>\n",
       "      <td>1</td>\n",
       "      <td>1</td>\n",
       "      <td>1</td>\n",
       "      <td>1</td>\n",
       "    </tr>\n",
       "    <tr>\n",
       "      <th>HAM_0000004</th>\n",
       "      <td>1</td>\n",
       "      <td>1</td>\n",
       "      <td>1</td>\n",
       "      <td>1</td>\n",
       "      <td>1</td>\n",
       "      <td>1</td>\n",
       "    </tr>\n",
       "    <tr>\n",
       "      <th>HAM_0000007</th>\n",
       "      <td>1</td>\n",
       "      <td>1</td>\n",
       "      <td>1</td>\n",
       "      <td>1</td>\n",
       "      <td>1</td>\n",
       "      <td>1</td>\n",
       "    </tr>\n",
       "    <tr>\n",
       "      <th>HAM_0000008</th>\n",
       "      <td>1</td>\n",
       "      <td>1</td>\n",
       "      <td>1</td>\n",
       "      <td>1</td>\n",
       "      <td>1</td>\n",
       "      <td>1</td>\n",
       "    </tr>\n",
       "  </tbody>\n",
       "</table>\n",
       "</div>"
      ],
      "text/plain": [
       "             image_id  dx  dx_type  age  sex  localization\n",
       "lesion_id                                                 \n",
       "HAM_0000001         1   1        1    1    1             1\n",
       "HAM_0000003         1   1        1    1    1             1\n",
       "HAM_0000004         1   1        1    1    1             1\n",
       "HAM_0000007         1   1        1    1    1             1\n",
       "HAM_0000008         1   1        1    1    1             1"
      ]
     },
     "execution_count": 10,
     "metadata": {},
     "output_type": "execute_result"
    }
   ],
   "source": [
    "df.head ()"
   ]
  },
  {
   "cell_type": "code",
   "execution_count": 11,
   "metadata": {},
   "outputs": [
    {
     "data": {
      "text/html": [
       "<div>\n",
       "<style scoped>\n",
       "    .dataframe tbody tr th:only-of-type {\n",
       "        vertical-align: middle;\n",
       "    }\n",
       "\n",
       "    .dataframe tbody tr th {\n",
       "        vertical-align: top;\n",
       "    }\n",
       "\n",
       "    .dataframe thead th {\n",
       "        text-align: right;\n",
       "    }\n",
       "</style>\n",
       "<table border=\"1\" class=\"dataframe\">\n",
       "  <thead>\n",
       "    <tr style=\"text-align: right;\">\n",
       "      <th></th>\n",
       "      <th>lesion_id</th>\n",
       "      <th>image_id</th>\n",
       "      <th>dx</th>\n",
       "      <th>dx_type</th>\n",
       "      <th>age</th>\n",
       "      <th>sex</th>\n",
       "      <th>localization</th>\n",
       "    </tr>\n",
       "  </thead>\n",
       "  <tbody>\n",
       "    <tr>\n",
       "      <th>0</th>\n",
       "      <td>HAM_0000001</td>\n",
       "      <td>1</td>\n",
       "      <td>1</td>\n",
       "      <td>1</td>\n",
       "      <td>1</td>\n",
       "      <td>1</td>\n",
       "      <td>1</td>\n",
       "    </tr>\n",
       "    <tr>\n",
       "      <th>1</th>\n",
       "      <td>HAM_0000003</td>\n",
       "      <td>1</td>\n",
       "      <td>1</td>\n",
       "      <td>1</td>\n",
       "      <td>1</td>\n",
       "      <td>1</td>\n",
       "      <td>1</td>\n",
       "    </tr>\n",
       "    <tr>\n",
       "      <th>2</th>\n",
       "      <td>HAM_0000004</td>\n",
       "      <td>1</td>\n",
       "      <td>1</td>\n",
       "      <td>1</td>\n",
       "      <td>1</td>\n",
       "      <td>1</td>\n",
       "      <td>1</td>\n",
       "    </tr>\n",
       "    <tr>\n",
       "      <th>3</th>\n",
       "      <td>HAM_0000007</td>\n",
       "      <td>1</td>\n",
       "      <td>1</td>\n",
       "      <td>1</td>\n",
       "      <td>1</td>\n",
       "      <td>1</td>\n",
       "      <td>1</td>\n",
       "    </tr>\n",
       "    <tr>\n",
       "      <th>4</th>\n",
       "      <td>HAM_0000008</td>\n",
       "      <td>1</td>\n",
       "      <td>1</td>\n",
       "      <td>1</td>\n",
       "      <td>1</td>\n",
       "      <td>1</td>\n",
       "      <td>1</td>\n",
       "    </tr>\n",
       "  </tbody>\n",
       "</table>\n",
       "</div>"
      ],
      "text/plain": [
       "     lesion_id  image_id  dx  dx_type  age  sex  localization\n",
       "0  HAM_0000001         1   1        1    1    1             1\n",
       "1  HAM_0000003         1   1        1    1    1             1\n",
       "2  HAM_0000004         1   1        1    1    1             1\n",
       "3  HAM_0000007         1   1        1    1    1             1\n",
       "4  HAM_0000008         1   1        1    1    1             1"
      ]
     },
     "execution_count": 11,
     "metadata": {},
     "output_type": "execute_result"
    }
   ],
   "source": [
    "# Lesion id con una sola imagen\n",
    "\n",
    "df.reset_index(inplace = True)\n",
    "\n",
    "df.head ()"
   ]
  },
  {
   "cell_type": "code",
   "execution_count": 12,
   "metadata": {},
   "outputs": [],
   "source": [
    "# Id de lesiones que tengan mas de una imagen o una sola\n",
    "\n",
    "def identify_duplicates_images (x):\n",
    "    unique_list = list (df ['lesion_id'])\n",
    "    if x in unique_list:\n",
    "        return 'sin duplicaciones'\n",
    "    else:\n",
    "        return 'duplicado'"
   ]
  },
  {
   "cell_type": "code",
   "execution_count": 13,
   "metadata": {},
   "outputs": [],
   "source": [
    "# Crear una nueva columna para decir si esta duplicado o no. Es una copia de lesion_id\n",
    "\n",
    "df_skin ['duplicates'] = df_skin ['lesion_id']"
   ]
  },
  {
   "cell_type": "code",
   "execution_count": 14,
   "metadata": {},
   "outputs": [],
   "source": [
    "# Aplicar la función identify_duplicates_images a la nueva columna duplicates\n",
    "\n",
    "df_skin ['duplicates'] = df_skin ['duplicates'].apply (identify_duplicates_images)"
   ]
  },
  {
   "cell_type": "code",
   "execution_count": 15,
   "metadata": {},
   "outputs": [
    {
     "data": {
      "text/html": [
       "<div>\n",
       "<style scoped>\n",
       "    .dataframe tbody tr th:only-of-type {\n",
       "        vertical-align: middle;\n",
       "    }\n",
       "\n",
       "    .dataframe tbody tr th {\n",
       "        vertical-align: top;\n",
       "    }\n",
       "\n",
       "    .dataframe thead th {\n",
       "        text-align: right;\n",
       "    }\n",
       "</style>\n",
       "<table border=\"1\" class=\"dataframe\">\n",
       "  <thead>\n",
       "    <tr style=\"text-align: right;\">\n",
       "      <th></th>\n",
       "      <th>lesion_id</th>\n",
       "      <th>image_id</th>\n",
       "      <th>dx</th>\n",
       "      <th>dx_type</th>\n",
       "      <th>age</th>\n",
       "      <th>sex</th>\n",
       "      <th>localization</th>\n",
       "      <th>duplicates</th>\n",
       "    </tr>\n",
       "  </thead>\n",
       "  <tbody>\n",
       "    <tr>\n",
       "      <th>1020</th>\n",
       "      <td>HAM_0005291</td>\n",
       "      <td>ISIC_0026907</td>\n",
       "      <td>bkl</td>\n",
       "      <td>consensus</td>\n",
       "      <td>55.0</td>\n",
       "      <td>male</td>\n",
       "      <td>back</td>\n",
       "      <td>sin duplicaciones</td>\n",
       "    </tr>\n",
       "    <tr>\n",
       "      <th>6521</th>\n",
       "      <td>HAM_0007584</td>\n",
       "      <td>ISIC_0025139</td>\n",
       "      <td>nv</td>\n",
       "      <td>follow_up</td>\n",
       "      <td>35.0</td>\n",
       "      <td>female</td>\n",
       "      <td>trunk</td>\n",
       "      <td>sin duplicaciones</td>\n",
       "    </tr>\n",
       "    <tr>\n",
       "      <th>964</th>\n",
       "      <td>HAM_0007427</td>\n",
       "      <td>ISIC_0033945</td>\n",
       "      <td>bkl</td>\n",
       "      <td>consensus</td>\n",
       "      <td>60.0</td>\n",
       "      <td>female</td>\n",
       "      <td>back</td>\n",
       "      <td>duplicado</td>\n",
       "    </tr>\n",
       "    <tr>\n",
       "      <th>9706</th>\n",
       "      <td>HAM_0006746</td>\n",
       "      <td>ISIC_0026872</td>\n",
       "      <td>akiec</td>\n",
       "      <td>histo</td>\n",
       "      <td>85.0</td>\n",
       "      <td>male</td>\n",
       "      <td>lower extremity</td>\n",
       "      <td>sin duplicaciones</td>\n",
       "    </tr>\n",
       "    <tr>\n",
       "      <th>778</th>\n",
       "      <td>HAM_0007337</td>\n",
       "      <td>ISIC_0026912</td>\n",
       "      <td>bkl</td>\n",
       "      <td>confocal</td>\n",
       "      <td>85.0</td>\n",
       "      <td>female</td>\n",
       "      <td>face</td>\n",
       "      <td>sin duplicaciones</td>\n",
       "    </tr>\n",
       "  </tbody>\n",
       "</table>\n",
       "</div>"
      ],
      "text/plain": [
       "        lesion_id      image_id     dx    dx_type   age     sex  \\\n",
       "1020  HAM_0005291  ISIC_0026907    bkl  consensus  55.0    male   \n",
       "6521  HAM_0007584  ISIC_0025139     nv  follow_up  35.0  female   \n",
       "964   HAM_0007427  ISIC_0033945    bkl  consensus  60.0  female   \n",
       "9706  HAM_0006746  ISIC_0026872  akiec      histo  85.0    male   \n",
       "778   HAM_0007337  ISIC_0026912    bkl   confocal  85.0  female   \n",
       "\n",
       "         localization         duplicates  \n",
       "1020             back  sin duplicaciones  \n",
       "6521            trunk  sin duplicaciones  \n",
       "964              back          duplicado  \n",
       "9706  lower extremity  sin duplicaciones  \n",
       "778              face  sin duplicaciones  "
      ]
     },
     "execution_count": 15,
     "metadata": {},
     "output_type": "execute_result"
    }
   ],
   "source": [
    "df_skin.sample (5)"
   ]
  },
  {
   "cell_type": "code",
   "execution_count": 16,
   "metadata": {},
   "outputs": [
    {
     "data": {
      "text/plain": [
       "sin duplicaciones    5514\n",
       "duplicado            4501\n",
       "Name: duplicates, dtype: int64"
      ]
     },
     "execution_count": 16,
     "metadata": {},
     "output_type": "execute_result"
    }
   ],
   "source": [
    "df_skin ['duplicates'].value_counts ()"
   ]
  },
  {
   "cell_type": "code",
   "execution_count": 17,
   "metadata": {},
   "outputs": [],
   "source": [
    "df = df_skin [df_skin ['duplicates'] == 'sin duplicaciones']"
   ]
  },
  {
   "cell_type": "code",
   "execution_count": 18,
   "metadata": {},
   "outputs": [
    {
     "data": {
      "text/plain": [
       "sin duplicaciones    5514\n",
       "Name: duplicates, dtype: int64"
      ]
     },
     "execution_count": 18,
     "metadata": {},
     "output_type": "execute_result"
    }
   ],
   "source": [
    "df ['duplicates'].value_counts ()"
   ]
  },
  {
   "cell_type": "code",
   "execution_count": 88,
   "metadata": {},
   "outputs": [
    {
     "data": {
      "image/png": "[encoded data removed]",
      "text/plain": [
       "<Figure size 400x400 with 1 Axes>"
      ]
     },
     "metadata": {
      "needs_background": "light"
     },
     "output_type": "display_data"
    }
   ],
   "source": [
    "plt.figure(figsize=(4,4), dpi = 100)\n",
    "sns.countplot (df_skin['duplicates'])\n",
    "\n",
    "plt.ylabel ('Patients')\n",
    "plt.xticks()\n",
    "plt.grid ()\n",
    "\n",
    "plt.show ()"
   ]
  },
  {
   "cell_type": "code",
   "execution_count": 81,
   "metadata": {},
   "outputs": [
    {
     "data": {
      "image/png": "[encoded data removed]",
      "text/plain": [
       "<Figure size 400x400 with 1 Axes>"
      ]
     },
     "metadata": {
      "needs_background": "light"
     },
     "output_type": "display_data"
    }
   ],
   "source": [
    "plt.figure(figsize=(4,4), dpi = 100)\n",
    "sns.countplot (df['dx'])\n",
    "plt.xlabel ('Diagnosis')\n",
    "plt.ylabel ('Patients')\n",
    "plt.xticks()\n",
    "plt.grid ()\n",
    "plt.show ()"
   ]
  },
  {
   "cell_type": "code",
   "execution_count": 26,
   "metadata": {},
   "outputs": [
    {
     "data": {
      "text/html": [
       "<div>\n",
       "<style scoped>\n",
       "    .dataframe tbody tr th:only-of-type {\n",
       "        vertical-align: middle;\n",
       "    }\n",
       "\n",
       "    .dataframe tbody tr th {\n",
       "        vertical-align: top;\n",
       "    }\n",
       "\n",
       "    .dataframe thead th {\n",
       "        text-align: right;\n",
       "    }\n",
       "</style>\n",
       "<table border=\"1\" class=\"dataframe\">\n",
       "  <thead>\n",
       "    <tr style=\"text-align: right;\">\n",
       "      <th></th>\n",
       "      <th>lesion_id</th>\n",
       "      <th>image_id</th>\n",
       "      <th>dx</th>\n",
       "      <th>dx_type</th>\n",
       "      <th>age</th>\n",
       "      <th>sex</th>\n",
       "      <th>localization</th>\n",
       "      <th>duplicates</th>\n",
       "    </tr>\n",
       "  </thead>\n",
       "  <tbody>\n",
       "    <tr>\n",
       "      <th>10</th>\n",
       "      <td>HAM_0001396</td>\n",
       "      <td>ISIC_0025276</td>\n",
       "      <td>bkl</td>\n",
       "      <td>histo</td>\n",
       "      <td>55.0</td>\n",
       "      <td>female</td>\n",
       "      <td>trunk</td>\n",
       "      <td>sin duplicaciones</td>\n",
       "    </tr>\n",
       "    <tr>\n",
       "      <th>15</th>\n",
       "      <td>HAM_0007207</td>\n",
       "      <td>ISIC_0031326</td>\n",
       "      <td>bkl</td>\n",
       "      <td>histo</td>\n",
       "      <td>65.0</td>\n",
       "      <td>male</td>\n",
       "      <td>back</td>\n",
       "      <td>sin duplicaciones</td>\n",
       "    </tr>\n",
       "    <tr>\n",
       "      <th>20</th>\n",
       "      <td>HAM_0006071</td>\n",
       "      <td>ISIC_0032343</td>\n",
       "      <td>bkl</td>\n",
       "      <td>histo</td>\n",
       "      <td>70.0</td>\n",
       "      <td>female</td>\n",
       "      <td>face</td>\n",
       "      <td>sin duplicaciones</td>\n",
       "    </tr>\n",
       "    <tr>\n",
       "      <th>33</th>\n",
       "      <td>HAM_0005612</td>\n",
       "      <td>ISIC_0024981</td>\n",
       "      <td>bkl</td>\n",
       "      <td>histo</td>\n",
       "      <td>80.0</td>\n",
       "      <td>male</td>\n",
       "      <td>scalp</td>\n",
       "      <td>sin duplicaciones</td>\n",
       "    </tr>\n",
       "    <tr>\n",
       "      <th>34</th>\n",
       "      <td>HAM_0005388</td>\n",
       "      <td>ISIC_0027815</td>\n",
       "      <td>bkl</td>\n",
       "      <td>histo</td>\n",
       "      <td>80.0</td>\n",
       "      <td>male</td>\n",
       "      <td>chest</td>\n",
       "      <td>sin duplicaciones</td>\n",
       "    </tr>\n",
       "  </tbody>\n",
       "</table>\n",
       "</div>"
      ],
      "text/plain": [
       "      lesion_id      image_id   dx dx_type   age     sex localization  \\\n",
       "10  HAM_0001396  ISIC_0025276  bkl   histo  55.0  female        trunk   \n",
       "15  HAM_0007207  ISIC_0031326  bkl   histo  65.0    male         back   \n",
       "20  HAM_0006071  ISIC_0032343  bkl   histo  70.0  female         face   \n",
       "33  HAM_0005612  ISIC_0024981  bkl   histo  80.0    male        scalp   \n",
       "34  HAM_0005388  ISIC_0027815  bkl   histo  80.0    male        chest   \n",
       "\n",
       "           duplicates  \n",
       "10  sin duplicaciones  \n",
       "15  sin duplicaciones  \n",
       "20  sin duplicaciones  \n",
       "33  sin duplicaciones  \n",
       "34  sin duplicaciones  "
      ]
     },
     "execution_count": 26,
     "metadata": {},
     "output_type": "execute_result"
    }
   ],
   "source": [
    "df.head ()"
   ]
  },
  {
   "cell_type": "code",
   "execution_count": 27,
   "metadata": {},
   "outputs": [],
   "source": [
    "# Uso df para crear val ya que no tiene duplicaciones\n",
    "\n",
    "y = df ['dx']\n",
    "\n",
    "y, df_val = train_test_split (df, test_size = 0.17, random_state = 101, stratify = y)"
   ]
  },
  {
   "cell_type": "code",
   "execution_count": 28,
   "metadata": {},
   "outputs": [
    {
     "data": {
      "text/plain": [
       "(938, 8)"
      ]
     },
     "execution_count": 28,
     "metadata": {},
     "output_type": "execute_result"
    }
   ],
   "source": [
    "df_val.shape"
   ]
  },
  {
   "cell_type": "code",
   "execution_count": 29,
   "metadata": {},
   "outputs": [
    {
     "data": {
      "text/plain": [
       "(4576, 8)"
      ]
     },
     "execution_count": 29,
     "metadata": {},
     "output_type": "execute_result"
    }
   ],
   "source": [
    "y.shape"
   ]
  },
  {
   "cell_type": "code",
   "execution_count": 30,
   "metadata": {},
   "outputs": [
    {
     "data": {
      "text/plain": [
       "nv       751\n",
       "bkl       75\n",
       "mel       39\n",
       "bcc       30\n",
       "akiec     26\n",
       "vasc      11\n",
       "df         6\n",
       "Name: dx, dtype: int64"
      ]
     },
     "execution_count": 30,
     "metadata": {},
     "output_type": "execute_result"
    }
   ],
   "source": [
    "df_val['dx'].value_counts()"
   ]
  },
  {
   "cell_type": "code",
   "execution_count": 32,
   "metadata": {},
   "outputs": [
    {
     "data": {
      "text/html": [
       "<div>\n",
       "<style scoped>\n",
       "    .dataframe tbody tr th:only-of-type {\n",
       "        vertical-align: middle;\n",
       "    }\n",
       "\n",
       "    .dataframe tbody tr th {\n",
       "        vertical-align: top;\n",
       "    }\n",
       "\n",
       "    .dataframe thead th {\n",
       "        text-align: right;\n",
       "    }\n",
       "</style>\n",
       "<table border=\"1\" class=\"dataframe\">\n",
       "  <thead>\n",
       "    <tr style=\"text-align: right;\">\n",
       "      <th></th>\n",
       "      <th>lesion_id</th>\n",
       "      <th>image_id</th>\n",
       "      <th>dx</th>\n",
       "      <th>dx_type</th>\n",
       "      <th>age</th>\n",
       "      <th>sex</th>\n",
       "      <th>localization</th>\n",
       "      <th>duplicates</th>\n",
       "    </tr>\n",
       "  </thead>\n",
       "  <tbody>\n",
       "    <tr>\n",
       "      <th>9446</th>\n",
       "      <td>HAM_0007333</td>\n",
       "      <td>ISIC_0033614</td>\n",
       "      <td>nv</td>\n",
       "      <td>consensus</td>\n",
       "      <td>40.0</td>\n",
       "      <td>male</td>\n",
       "      <td>unknown</td>\n",
       "      <td>sin duplicaciones</td>\n",
       "    </tr>\n",
       "    <tr>\n",
       "      <th>5199</th>\n",
       "      <td>HAM_0005819</td>\n",
       "      <td>ISIC_0025111</td>\n",
       "      <td>nv</td>\n",
       "      <td>follow_up</td>\n",
       "      <td>45.0</td>\n",
       "      <td>male</td>\n",
       "      <td>trunk</td>\n",
       "      <td>sin duplicaciones</td>\n",
       "    </tr>\n",
       "    <tr>\n",
       "      <th>6140</th>\n",
       "      <td>HAM_0004336</td>\n",
       "      <td>ISIC_0031760</td>\n",
       "      <td>nv</td>\n",
       "      <td>follow_up</td>\n",
       "      <td>45.0</td>\n",
       "      <td>male</td>\n",
       "      <td>abdomen</td>\n",
       "      <td>sin duplicaciones</td>\n",
       "    </tr>\n",
       "    <tr>\n",
       "      <th>3595</th>\n",
       "      <td>HAM_0006385</td>\n",
       "      <td>ISIC_0026733</td>\n",
       "      <td>nv</td>\n",
       "      <td>follow_up</td>\n",
       "      <td>50.0</td>\n",
       "      <td>female</td>\n",
       "      <td>trunk</td>\n",
       "      <td>sin duplicaciones</td>\n",
       "    </tr>\n",
       "    <tr>\n",
       "      <th>3419</th>\n",
       "      <td>HAM_0002080</td>\n",
       "      <td>ISIC_0029619</td>\n",
       "      <td>nv</td>\n",
       "      <td>follow_up</td>\n",
       "      <td>45.0</td>\n",
       "      <td>female</td>\n",
       "      <td>lower extremity</td>\n",
       "      <td>sin duplicaciones</td>\n",
       "    </tr>\n",
       "  </tbody>\n",
       "</table>\n",
       "</div>"
      ],
      "text/plain": [
       "        lesion_id      image_id  dx    dx_type   age     sex     localization  \\\n",
       "9446  HAM_0007333  ISIC_0033614  nv  consensus  40.0    male          unknown   \n",
       "5199  HAM_0005819  ISIC_0025111  nv  follow_up  45.0    male            trunk   \n",
       "6140  HAM_0004336  ISIC_0031760  nv  follow_up  45.0    male          abdomen   \n",
       "3595  HAM_0006385  ISIC_0026733  nv  follow_up  50.0  female            trunk   \n",
       "3419  HAM_0002080  ISIC_0029619  nv  follow_up  45.0  female  lower extremity   \n",
       "\n",
       "             duplicates  \n",
       "9446  sin duplicaciones  \n",
       "5199  sin duplicaciones  \n",
       "6140  sin duplicaciones  \n",
       "3595  sin duplicaciones  \n",
       "3419  sin duplicaciones  "
      ]
     },
     "execution_count": 32,
     "metadata": {},
     "output_type": "execute_result"
    }
   ],
   "source": [
    "df_val.head ()"
   ]
  },
  {
   "cell_type": "code",
   "execution_count": 31,
   "metadata": {},
   "outputs": [],
   "source": [
    "# Crear un set de train sin las imagenes usadas para el set val\n",
    "\n",
    "# Uso df_skin exlucyendo las filas que use para val (de 'df')\n",
    "\n",
    "\n",
    "# Función identifica si una imagen es del set train o val\n",
    "\n",
    "def identify_val_rows (x):\n",
    "    # Crear una lista de los lesion_id en val\n",
    "    val_list = list (df_val ['image_id'])\n",
    "    if str (x) in val_list:\n",
    "        return 'val'\n",
    "    else:\n",
    "        return 'train'"
   ]
  },
  {
   "cell_type": "code",
   "execution_count": 33,
   "metadata": {},
   "outputs": [],
   "source": [
    "# Crear una nueva columna para decir si es val o train. Es una copia de image_id\n",
    "\n",
    "df_skin ['train o val'] = df_skin ['image_id']"
   ]
  },
  {
   "cell_type": "code",
   "execution_count": 34,
   "metadata": {},
   "outputs": [],
   "source": [
    "# Aplicar la función identify_val_rows a columna 'train o val'\n",
    "\n",
    "df_skin ['train o val'] = df_skin ['train o val'].apply(identify_val_rows)"
   ]
  },
  {
   "cell_type": "code",
   "execution_count": 40,
   "metadata": {},
   "outputs": [
    {
     "data": {
      "text/html": [
       "<div>\n",
       "<style scoped>\n",
       "    .dataframe tbody tr th:only-of-type {\n",
       "        vertical-align: middle;\n",
       "    }\n",
       "\n",
       "    .dataframe tbody tr th {\n",
       "        vertical-align: top;\n",
       "    }\n",
       "\n",
       "    .dataframe thead th {\n",
       "        text-align: right;\n",
       "    }\n",
       "</style>\n",
       "<table border=\"1\" class=\"dataframe\">\n",
       "  <thead>\n",
       "    <tr style=\"text-align: right;\">\n",
       "      <th></th>\n",
       "      <th>lesion_id</th>\n",
       "      <th>image_id</th>\n",
       "      <th>dx</th>\n",
       "      <th>dx_type</th>\n",
       "      <th>age</th>\n",
       "      <th>sex</th>\n",
       "      <th>localization</th>\n",
       "      <th>duplicates</th>\n",
       "      <th>train o val</th>\n",
       "    </tr>\n",
       "  </thead>\n",
       "  <tbody>\n",
       "    <tr>\n",
       "      <th>8312</th>\n",
       "      <td>HAM_0003742</td>\n",
       "      <td>ISIC_0031631</td>\n",
       "      <td>nv</td>\n",
       "      <td>histo</td>\n",
       "      <td>20.0</td>\n",
       "      <td>female</td>\n",
       "      <td>back</td>\n",
       "      <td>duplicado</td>\n",
       "      <td>train</td>\n",
       "    </tr>\n",
       "    <tr>\n",
       "      <th>2115</th>\n",
       "      <td>HAM_0005747</td>\n",
       "      <td>ISIC_0027502</td>\n",
       "      <td>mel</td>\n",
       "      <td>histo</td>\n",
       "      <td>45.0</td>\n",
       "      <td>male</td>\n",
       "      <td>lower extremity</td>\n",
       "      <td>duplicado</td>\n",
       "      <td>train</td>\n",
       "    </tr>\n",
       "    <tr>\n",
       "      <th>1206</th>\n",
       "      <td>HAM_0001841</td>\n",
       "      <td>ISIC_0025771</td>\n",
       "      <td>df</td>\n",
       "      <td>consensus</td>\n",
       "      <td>35.0</td>\n",
       "      <td>female</td>\n",
       "      <td>lower extremity</td>\n",
       "      <td>sin duplicaciones</td>\n",
       "      <td>train</td>\n",
       "    </tr>\n",
       "    <tr>\n",
       "      <th>1035</th>\n",
       "      <td>HAM_0002034</td>\n",
       "      <td>ISIC_0027954</td>\n",
       "      <td>bkl</td>\n",
       "      <td>consensus</td>\n",
       "      <td>5.0</td>\n",
       "      <td>male</td>\n",
       "      <td>abdomen</td>\n",
       "      <td>sin duplicaciones</td>\n",
       "      <td>val</td>\n",
       "    </tr>\n",
       "    <tr>\n",
       "      <th>1172</th>\n",
       "      <td>HAM_0007396</td>\n",
       "      <td>ISIC_0033810</td>\n",
       "      <td>df</td>\n",
       "      <td>consensus</td>\n",
       "      <td>35.0</td>\n",
       "      <td>female</td>\n",
       "      <td>lower extremity</td>\n",
       "      <td>duplicado</td>\n",
       "      <td>train</td>\n",
       "    </tr>\n",
       "  </tbody>\n",
       "</table>\n",
       "</div>"
      ],
      "text/plain": [
       "        lesion_id      image_id   dx    dx_type   age     sex  \\\n",
       "8312  HAM_0003742  ISIC_0031631   nv      histo  20.0  female   \n",
       "2115  HAM_0005747  ISIC_0027502  mel      histo  45.0    male   \n",
       "1206  HAM_0001841  ISIC_0025771   df  consensus  35.0  female   \n",
       "1035  HAM_0002034  ISIC_0027954  bkl  consensus   5.0    male   \n",
       "1172  HAM_0007396  ISIC_0033810   df  consensus  35.0  female   \n",
       "\n",
       "         localization         duplicates train o val  \n",
       "8312             back          duplicado       train  \n",
       "2115  lower extremity          duplicado       train  \n",
       "1206  lower extremity  sin duplicaciones       train  \n",
       "1035          abdomen  sin duplicaciones         val  \n",
       "1172  lower extremity          duplicado       train  "
      ]
     },
     "execution_count": 40,
     "metadata": {},
     "output_type": "execute_result"
    }
   ],
   "source": [
    "df_skin.sample (5)"
   ]
  },
  {
   "cell_type": "code",
   "execution_count": 45,
   "metadata": {},
   "outputs": [
    {
     "data": {
      "text/html": [
       "<div>\n",
       "<style scoped>\n",
       "    .dataframe tbody tr th:only-of-type {\n",
       "        vertical-align: middle;\n",
       "    }\n",
       "\n",
       "    .dataframe tbody tr th {\n",
       "        vertical-align: top;\n",
       "    }\n",
       "\n",
       "    .dataframe thead th {\n",
       "        text-align: right;\n",
       "    }\n",
       "</style>\n",
       "<table border=\"1\" class=\"dataframe\">\n",
       "  <thead>\n",
       "    <tr style=\"text-align: right;\">\n",
       "      <th></th>\n",
       "      <th>lesion_id</th>\n",
       "      <th>image_id</th>\n",
       "      <th>dx</th>\n",
       "      <th>dx_type</th>\n",
       "      <th>age</th>\n",
       "      <th>sex</th>\n",
       "      <th>localization</th>\n",
       "      <th>duplicates</th>\n",
       "    </tr>\n",
       "  </thead>\n",
       "  <tbody>\n",
       "    <tr>\n",
       "      <th>1035</th>\n",
       "      <td>HAM_0002034</td>\n",
       "      <td>ISIC_0027954</td>\n",
       "      <td>bkl</td>\n",
       "      <td>consensus</td>\n",
       "      <td>5.0</td>\n",
       "      <td>male</td>\n",
       "      <td>abdomen</td>\n",
       "      <td>sin duplicaciones</td>\n",
       "    </tr>\n",
       "  </tbody>\n",
       "</table>\n",
       "</div>"
      ],
      "text/plain": [
       "        lesion_id      image_id   dx    dx_type  age   sex localization  \\\n",
       "1035  HAM_0002034  ISIC_0027954  bkl  consensus  5.0  male      abdomen   \n",
       "\n",
       "             duplicates  \n",
       "1035  sin duplicaciones  "
      ]
     },
     "execution_count": 45,
     "metadata": {},
     "output_type": "execute_result"
    }
   ],
   "source": [
    "df.loc[df['lesion_id'] == 'HAM_0002034']"
   ]
  },
  {
   "cell_type": "code",
   "execution_count": 43,
   "metadata": {},
   "outputs": [
    {
     "data": {
      "text/plain": [
       "train    9077\n",
       "val       938\n",
       "Name: train o val, dtype: int64"
      ]
     },
     "execution_count": 43,
     "metadata": {},
     "output_type": "execute_result"
    }
   ],
   "source": [
    "df_skin ['train o val'].value_counts ()"
   ]
  },
  {
   "cell_type": "code",
   "execution_count": 46,
   "metadata": {},
   "outputs": [],
   "source": [
    "df_train = df_skin [df_skin ['train o val'] == 'train']"
   ]
  },
  {
   "cell_type": "code",
   "execution_count": 47,
   "metadata": {},
   "outputs": [
    {
     "data": {
      "text/plain": [
       "train    9077\n",
       "Name: train o val, dtype: int64"
      ]
     },
     "execution_count": 47,
     "metadata": {},
     "output_type": "execute_result"
    }
   ],
   "source": [
    "df_train ['train o val'].value_counts ()"
   ]
  },
  {
   "cell_type": "code",
   "execution_count": 48,
   "metadata": {
    "scrolled": true
   },
   "outputs": [
    {
     "data": {
      "text/plain": [
       "nv       5954\n",
       "mel      1074\n",
       "bkl      1024\n",
       "bcc       484\n",
       "akiec     301\n",
       "vasc      131\n",
       "df        109\n",
       "Name: dx, dtype: int64"
      ]
     },
     "execution_count": 48,
     "metadata": {},
     "output_type": "execute_result"
    }
   ],
   "source": [
    "df_train ['dx'].value_counts ()\n",
    "\n",
    "# Excluye las filas/imágenes utilizadas en val"
   ]
  },
  {
   "cell_type": "code",
   "execution_count": null,
   "metadata": {},
   "outputs": [],
   "source": []
  },
  {
   "cell_type": "code",
   "execution_count": null,
   "metadata": {},
   "outputs": [],
   "source": []
  },
  {
   "cell_type": "code",
   "execution_count": 49,
   "metadata": {},
   "outputs": [],
   "source": [
    "# Transferir las imagenes a sus correspondientes carpetas\n",
    "\n",
    "# Indexar por image_id en df_skin\n",
    "\n",
    "df_skin.set_index ('image_id', inplace = True)"
   ]
  },
  {
   "cell_type": "code",
   "execution_count": 50,
   "metadata": {},
   "outputs": [],
   "source": [
    "# Lista de las imagenes en sus carpetas originales\n",
    "\n",
    "carpeta1 = os.listdir ('../Skin Cancer 2/ham10000_images_part_1')\n",
    "carpeta2 = os.listdir ('../Skin Cancer 2/ham10000_images_part_2')"
   ]
  },
  {
   "cell_type": "code",
   "execution_count": 53,
   "metadata": {},
   "outputs": [],
   "source": [
    "# Lista de las imagenes en train y val\n",
    "\n",
    "train_list = list (df_train ['image_id'])\n",
    "val_list = list (df_val ['image_id'])"
   ]
  },
  {
   "cell_type": "code",
   "execution_count": 40,
   "metadata": {
    "scrolled": true
   },
   "outputs": [],
   "source": [
    "# Transferir las imágenes a train\n",
    "\n",
    "for image in train_list:\n",
    "    fname = image + '.jpg'\n",
    "    label = df_skin.loc [image, 'dx']\n",
    "    \n",
    "    if fname in carpeta1:\n",
    "        # Path origen de la imágen\n",
    "        source = os.path.join ('../Skin Cancer 2/ham10000_images_part_1', fname)\n",
    "        # Destino de la misma\n",
    "        destination = os.path.join (train_images, label, fname)\n",
    "        # Copiar la imágen del source al destino\n",
    "        shutil.copyfile (source, destination)\n",
    "    \n",
    "    if fname in carpeta2:\n",
    "        # Path origen de la imágen\n",
    "        source = os.path.join('../Skin Cancer 2/ham10000_images_part_2', fname)\n",
    "        # Destino de la misma\n",
    "        destination = os.path.join(train_images, label, fname)\n",
    "        # Copiar la imágen del source al destino\n",
    "        shutil.copyfile (source, destination)\n",
    "        \n",
    "        \n"
   ]
  },
  {
   "cell_type": "code",
   "execution_count": 41,
   "metadata": {},
   "outputs": [],
   "source": [
    "# Transferir las imágenes a val\n",
    "\n",
    "for image in val_list:\n",
    "    \n",
    "    fname = image + '.jpg'\n",
    "    label = df_skin.loc[image,'dx']\n",
    "    \n",
    "    if fname in carpeta1:\n",
    "        # Path origen de la imágen\n",
    "        source = os.path.join('../Skin Cancer 2/ham10000_images_part_1', fname)\n",
    "        # Destino de la misma\n",
    "        destination = os.path.join(val_images, label, fname)\n",
    "        # Copiar la imágen del source al destino\n",
    "        shutil.copyfile(source, destination)\n",
    "\n",
    "    if fname in carpeta2:\n",
    "        # Path origen de la imágen\n",
    "        source = os.path.join('../Skin Cancer 2/ham10000_images_part_2', fname)\n",
    "        # Destino de la misma\n",
    "        destination = os.path.join (val_images, label, fname)\n",
    "        # Copiar la imágen del source al destino\n",
    "        shutil.copyfile (source, destination)"
   ]
  },
  {
   "cell_type": "code",
   "execution_count": 54,
   "metadata": {},
   "outputs": [
    {
     "name": "stdout",
     "output_type": "stream",
     "text": [
      "5954\n",
      "5920\n",
      "5920\n",
      "5858\n",
      "5217\n",
      "5290\n",
      "4410\n"
     ]
    }
   ],
   "source": [
    "print(len(os.listdir('dir_images/train_images/nv')))\n",
    "print(len(os.listdir('dir_images/train_images/mel')))\n",
    "print(len(os.listdir('dir_images/train_images/bkl')))\n",
    "print(len(os.listdir('dir_images/train_images/bcc')))\n",
    "print(len(os.listdir('dir_images/train_images/akiec')))\n",
    "print(len(os.listdir('dir_images/train_images/vasc')))\n",
    "print(len(os.listdir('dir_images/train_images/df')))"
   ]
  },
  {
   "cell_type": "code",
   "execution_count": 52,
   "metadata": {},
   "outputs": [
    {
     "name": "stdout",
     "output_type": "stream",
     "text": [
      "751\n",
      "39\n",
      "75\n",
      "30\n",
      "26\n",
      "11\n",
      "6\n"
     ]
    }
   ],
   "source": [
    "print(len(os.listdir('dir_images/val_images/nv')))\n",
    "print(len(os.listdir('dir_images/val_images/mel')))\n",
    "print(len(os.listdir('dir_images/val_images/bkl')))\n",
    "print(len(os.listdir('dir_images/val_images/bcc')))\n",
    "print(len(os.listdir('dir_images/val_images/akiec')))\n",
    "print(len(os.listdir('dir_images/val_images/vasc')))\n",
    "print(len(os.listdir('dir_images/val_images/df')))"
   ]
  },
  {
   "cell_type": "code",
   "execution_count": 44,
   "metadata": {},
   "outputs": [],
   "source": [
    "# Crear un directorio para las categorias que hago augmentation\n",
    "# nv no porque ya tengo un n grande\n",
    "\n",
    "categorias = ['mel','bkl','bcc','akiec','vasc','df']"
   ]
  },
  {
   "cell_type": "code",
   "execution_count": 45,
   "metadata": {},
   "outputs": [
    {
     "name": "stdout",
     "output_type": "stream",
     "text": [
      "Found 1074 images belonging to 1 classes.\n",
      "Found 1024 images belonging to 1 classes.\n",
      "Found 484 images belonging to 1 classes.\n",
      "Found 301 images belonging to 1 classes.\n",
      "Found 131 images belonging to 1 classes.\n",
      "Found 109 images belonging to 1 classes.\n"
     ]
    }
   ],
   "source": [
    "for categoria in categorias:\n",
    "    \n",
    "    \n",
    "    aug_dir = 'aug_dir'\n",
    "    os.mkdir(aug_dir)\n",
    "    img_dir = os.path.join(aug_dir, 'img_dir')\n",
    "    os.mkdir(img_dir)\n",
    "\n",
    "    img_class = categoria\n",
    "\n",
    "    img_list = os.listdir('dir_images/train_images/' + img_class)\n",
    "\n",
    "    for fname in img_list:\n",
    "            src = os.path.join('dir_images/train_images/' + img_class, fname)\n",
    "            dst = os.path.join(img_dir, fname)\n",
    "            shutil.copyfile(src, dst)\n",
    "\n",
    "    path = aug_dir\n",
    "    save_path = 'dir_images/train_images/' + img_class\n",
    "\n",
    "    datagen = ImageDataGenerator(\n",
    "        rotation_range=180,\n",
    "        width_shift_range=0.1,\n",
    "        height_shift_range=0.1,\n",
    "        zoom_range=0.1,\n",
    "        horizontal_flip=True,\n",
    "        vertical_flip=True,\n",
    "        fill_mode='nearest')\n",
    "\n",
    "    batch_size = 50\n",
    "\n",
    "    aug_datagen = datagen.flow_from_directory(path,\n",
    "                                           save_to_dir=save_path,\n",
    "                                           save_format='jpg',\n",
    "                                                    target_size=(224,224),\n",
    "                                                    batch_size=batch_size)\n",
    "\n",
    "\n",
    "    num_aug_images_wanted = 6000 \n",
    "    num_files = len(os.listdir(img_dir))\n",
    "    num_batches = int(np.ceil((num_aug_images_wanted-num_files)/batch_size))\n",
    "\n",
    "    for i in range(0,num_batches):\n",
    "        imgs, labels = next(aug_datagen)\n",
    "        \n",
    "    shutil.rmtree('aug_dir')"
   ]
  },
  {
   "cell_type": "code",
   "execution_count": 55,
   "metadata": {},
   "outputs": [
    {
     "name": "stdout",
     "output_type": "stream",
     "text": [
      "5954\n",
      "5920\n",
      "5920\n",
      "5858\n",
      "5217\n",
      "5290\n",
      "4410\n"
     ]
    }
   ],
   "source": [
    "print(len(os.listdir('dir_images/train_images/nv')))\n",
    "print(len(os.listdir('dir_images/train_images/mel')))\n",
    "print(len(os.listdir('dir_images/train_images/bkl')))\n",
    "print(len(os.listdir('dir_images/train_images/bcc')))\n",
    "print(len(os.listdir('dir_images/train_images/akiec')))\n",
    "print(len(os.listdir('dir_images/train_images/vasc')))\n",
    "print(len(os.listdir('dir_images/train_images/df')))"
   ]
  },
  {
   "cell_type": "code",
   "execution_count": 56,
   "metadata": {},
   "outputs": [
    {
     "name": "stdout",
     "output_type": "stream",
     "text": [
      "751\n",
      "39\n",
      "75\n",
      "30\n",
      "26\n",
      "11\n",
      "6\n"
     ]
    }
   ],
   "source": [
    "print(len(os.listdir('dir_images/val_images/nv')))\n",
    "print(len(os.listdir('dir_images/val_images/mel')))\n",
    "print(len(os.listdir('dir_images/val_images/bkl')))\n",
    "print(len(os.listdir('dir_images/val_images/bcc')))\n",
    "print(len(os.listdir('dir_images/val_images/akiec')))\n",
    "print(len(os.listdir('dir_images/val_images/vasc')))\n",
    "print(len(os.listdir('dir_images/val_images/df')))"
   ]
  },
  {
   "cell_type": "code",
   "execution_count": 93,
   "metadata": {},
   "outputs": [
    {
     "data": {
      "text/plain": [
       "(10015, 8)"
      ]
     },
     "execution_count": 93,
     "metadata": {},
     "output_type": "execute_result"
    }
   ],
   "source": [
    "df_skin.shape"
   ]
  },
  {
   "cell_type": "code",
   "execution_count": 94,
   "metadata": {},
   "outputs": [
    {
     "data": {
      "text/plain": [
       "(5514, 8)"
      ]
     },
     "execution_count": 94,
     "metadata": {},
     "output_type": "execute_result"
    }
   ],
   "source": [
    "df.shape"
   ]
  },
  {
   "cell_type": "code",
   "execution_count": 90,
   "metadata": {},
   "outputs": [
    {
     "data": {
      "text/plain": [
       "(9077, 9)"
      ]
     },
     "execution_count": 90,
     "metadata": {},
     "output_type": "execute_result"
    }
   ],
   "source": [
    "df_train.shape"
   ]
  },
  {
   "cell_type": "code",
   "execution_count": 92,
   "metadata": {},
   "outputs": [
    {
     "data": {
      "text/plain": [
       "(938, 8)"
      ]
     },
     "execution_count": 92,
     "metadata": {},
     "output_type": "execute_result"
    }
   ],
   "source": [
    "df_val.shape"
   ]
  },
  {
   "cell_type": "code",
   "execution_count": 58,
   "metadata": {},
   "outputs": [],
   "source": [
    "train_path = 'dir_images/train_images'\n",
    "val_path = 'dir_images/val_images'"
   ]
  },
  {
   "cell_type": "code",
   "execution_count": 95,
   "metadata": {},
   "outputs": [],
   "source": [
    "train_samples = len (df_train)\n",
    "val_samples = len (df_val)"
   ]
  },
  {
   "cell_type": "code",
   "execution_count": 100,
   "metadata": {},
   "outputs": [],
   "source": [
    "train_batch_size = 10\n",
    "val_batch_size = 10\n",
    "image_size = 224"
   ]
  },
  {
   "cell_type": "code",
   "execution_count": 101,
   "metadata": {},
   "outputs": [],
   "source": [
    "train_steps = np.ceil (train_samples / train_batch_size)\n",
    "val_steps = np.ceil (val_samples / val_batch_size)"
   ]
  },
  {
   "cell_type": "code",
   "execution_count": 102,
   "metadata": {},
   "outputs": [],
   "source": [
    "datagen = ImageDataGenerator(\n",
    "    preprocessing_function= \\\n",
    "    tensorflow.keras.applications.mobilenet.preprocess_input)"
   ]
  },
  {
   "cell_type": "code",
   "execution_count": 103,
   "metadata": {},
   "outputs": [
    {
     "name": "stdout",
     "output_type": "stream",
     "text": [
      "Found 38569 images belonging to 7 classes.\n"
     ]
    }
   ],
   "source": [
    "train_batches = datagen.flow_from_directory(train_path,\n",
    "                                            target_size=(image_size,image_size),\n",
    "                                            batch_size=train_batch_size)"
   ]
  },
  {
   "cell_type": "code",
   "execution_count": 104,
   "metadata": {},
   "outputs": [
    {
     "name": "stdout",
     "output_type": "stream",
     "text": [
      "Found 938 images belonging to 7 classes.\n"
     ]
    }
   ],
   "source": [
    "valid_batches = datagen.flow_from_directory(val_path,\n",
    "                                            target_size=(image_size,image_size),\n",
    "                                            batch_size=val_batch_size)"
   ]
  },
  {
   "cell_type": "code",
   "execution_count": 105,
   "metadata": {},
   "outputs": [
    {
     "name": "stdout",
     "output_type": "stream",
     "text": [
      "Found 938 images belonging to 7 classes.\n"
     ]
    }
   ],
   "source": [
    "test_batches = datagen.flow_from_directory(val_path,\n",
    "                                            target_size=(image_size,image_size),\n",
    "                                            batch_size=1,\n",
    "                                            shuffle=False)"
   ]
  },
  {
   "cell_type": "code",
   "execution_count": null,
   "metadata": {},
   "outputs": [],
   "source": []
  },
  {
   "cell_type": "code",
   "execution_count": null,
   "metadata": {},
   "outputs": [],
   "source": []
  },
  {
   "cell_type": "code",
   "execution_count": 106,
   "metadata": {},
   "outputs": [],
   "source": [
    "# Mobile net\n",
    "\n",
    "mobile_net = tensorflow.keras.applications.mobilenet.MobileNet()"
   ]
  },
  {
   "cell_type": "code",
   "execution_count": 107,
   "metadata": {},
   "outputs": [
    {
     "name": "stdout",
     "output_type": "stream",
     "text": [
      "Model: \"mobilenet_1.00_224\"\n",
      "_________________________________________________________________\n",
      "Layer (type)                 Output Shape              Param #   \n",
      "=================================================================\n",
      "input_1 (InputLayer)         [(None, 224, 224, 3)]     0         \n",
      "_________________________________________________________________\n",
      "conv1_pad (ZeroPadding2D)    (None, 225, 225, 3)       0         \n",
      "_________________________________________________________________\n",
      "conv1 (Conv2D)               (None, 112, 112, 32)      864       \n",
      "_________________________________________________________________\n",
      "conv1_bn (BatchNormalization (None, 112, 112, 32)      128       \n",
      "_________________________________________________________________\n",
      "conv1_relu (ReLU)            (None, 112, 112, 32)      0         \n",
      "_________________________________________________________________\n",
      "conv_dw_1 (DepthwiseConv2D)  (None, 112, 112, 32)      288       \n",
      "_________________________________________________________________\n",
      "conv_dw_1_bn (BatchNormaliza (None, 112, 112, 32)      128       \n",
      "_________________________________________________________________\n",
      "conv_dw_1_relu (ReLU)        (None, 112, 112, 32)      0         \n",
      "_________________________________________________________________\n",
      "conv_pw_1 (Conv2D)           (None, 112, 112, 64)      2048      \n",
      "_________________________________________________________________\n",
      "conv_pw_1_bn (BatchNormaliza (None, 112, 112, 64)      256       \n",
      "_________________________________________________________________\n",
      "conv_pw_1_relu (ReLU)        (None, 112, 112, 64)      0         \n",
      "_________________________________________________________________\n",
      "conv_pad_2 (ZeroPadding2D)   (None, 113, 113, 64)      0         \n",
      "_________________________________________________________________\n",
      "conv_dw_2 (DepthwiseConv2D)  (None, 56, 56, 64)        576       \n",
      "_________________________________________________________________\n",
      "conv_dw_2_bn (BatchNormaliza (None, 56, 56, 64)        256       \n",
      "_________________________________________________________________\n",
      "conv_dw_2_relu (ReLU)        (None, 56, 56, 64)        0         \n",
      "_________________________________________________________________\n",
      "conv_pw_2 (Conv2D)           (None, 56, 56, 128)       8192      \n",
      "_________________________________________________________________\n",
      "conv_pw_2_bn (BatchNormaliza (None, 56, 56, 128)       512       \n",
      "_________________________________________________________________\n",
      "conv_pw_2_relu (ReLU)        (None, 56, 56, 128)       0         \n",
      "_________________________________________________________________\n",
      "conv_dw_3 (DepthwiseConv2D)  (None, 56, 56, 128)       1152      \n",
      "_________________________________________________________________\n",
      "conv_dw_3_bn (BatchNormaliza (None, 56, 56, 128)       512       \n",
      "_________________________________________________________________\n",
      "conv_dw_3_relu (ReLU)        (None, 56, 56, 128)       0         \n",
      "_________________________________________________________________\n",
      "conv_pw_3 (Conv2D)           (None, 56, 56, 128)       16384     \n",
      "_________________________________________________________________\n",
      "conv_pw_3_bn (BatchNormaliza (None, 56, 56, 128)       512       \n",
      "_________________________________________________________________\n",
      "conv_pw_3_relu (ReLU)        (None, 56, 56, 128)       0         \n",
      "_________________________________________________________________\n",
      "conv_pad_4 (ZeroPadding2D)   (None, 57, 57, 128)       0         \n",
      "_________________________________________________________________\n",
      "conv_dw_4 (DepthwiseConv2D)  (None, 28, 28, 128)       1152      \n",
      "_________________________________________________________________\n",
      "conv_dw_4_bn (BatchNormaliza (None, 28, 28, 128)       512       \n",
      "_________________________________________________________________\n",
      "conv_dw_4_relu (ReLU)        (None, 28, 28, 128)       0         \n",
      "_________________________________________________________________\n",
      "conv_pw_4 (Conv2D)           (None, 28, 28, 256)       32768     \n",
      "_________________________________________________________________\n",
      "conv_pw_4_bn (BatchNormaliza (None, 28, 28, 256)       1024      \n",
      "_________________________________________________________________\n",
      "conv_pw_4_relu (ReLU)        (None, 28, 28, 256)       0         \n",
      "_________________________________________________________________\n",
      "conv_dw_5 (DepthwiseConv2D)  (None, 28, 28, 256)       2304      \n",
      "_________________________________________________________________\n",
      "conv_dw_5_bn (BatchNormaliza (None, 28, 28, 256)       1024      \n",
      "_________________________________________________________________\n",
      "conv_dw_5_relu (ReLU)        (None, 28, 28, 256)       0         \n",
      "_________________________________________________________________\n",
      "conv_pw_5 (Conv2D)           (None, 28, 28, 256)       65536     \n",
      "_________________________________________________________________\n",
      "conv_pw_5_bn (BatchNormaliza (None, 28, 28, 256)       1024      \n",
      "_________________________________________________________________\n",
      "conv_pw_5_relu (ReLU)        (None, 28, 28, 256)       0         \n",
      "_________________________________________________________________\n",
      "conv_pad_6 (ZeroPadding2D)   (None, 29, 29, 256)       0         \n",
      "_________________________________________________________________\n",
      "conv_dw_6 (DepthwiseConv2D)  (None, 14, 14, 256)       2304      \n",
      "_________________________________________________________________\n",
      "conv_dw_6_bn (BatchNormaliza (None, 14, 14, 256)       1024      \n",
      "_________________________________________________________________\n",
      "conv_dw_6_relu (ReLU)        (None, 14, 14, 256)       0         \n",
      "_________________________________________________________________\n",
      "conv_pw_6 (Conv2D)           (None, 14, 14, 512)       131072    \n",
      "_________________________________________________________________\n",
      "conv_pw_6_bn (BatchNormaliza (None, 14, 14, 512)       2048      \n",
      "_________________________________________________________________\n",
      "conv_pw_6_relu (ReLU)        (None, 14, 14, 512)       0         \n",
      "_________________________________________________________________\n",
      "conv_dw_7 (DepthwiseConv2D)  (None, 14, 14, 512)       4608      \n",
      "_________________________________________________________________\n",
      "conv_dw_7_bn (BatchNormaliza (None, 14, 14, 512)       2048      \n",
      "_________________________________________________________________\n",
      "conv_dw_7_relu (ReLU)        (None, 14, 14, 512)       0         \n",
      "_________________________________________________________________\n",
      "conv_pw_7 (Conv2D)           (None, 14, 14, 512)       262144    \n",
      "_________________________________________________________________\n",
      "conv_pw_7_bn (BatchNormaliza (None, 14, 14, 512)       2048      \n",
      "_________________________________________________________________\n",
      "conv_pw_7_relu (ReLU)        (None, 14, 14, 512)       0         \n",
      "_________________________________________________________________\n",
      "conv_dw_8 (DepthwiseConv2D)  (None, 14, 14, 512)       4608      \n",
      "_________________________________________________________________\n",
      "conv_dw_8_bn (BatchNormaliza (None, 14, 14, 512)       2048      \n",
      "_________________________________________________________________\n",
      "conv_dw_8_relu (ReLU)        (None, 14, 14, 512)       0         \n",
      "_________________________________________________________________\n",
      "conv_pw_8 (Conv2D)           (None, 14, 14, 512)       262144    \n",
      "_________________________________________________________________\n",
      "conv_pw_8_bn (BatchNormaliza (None, 14, 14, 512)       2048      \n",
      "_________________________________________________________________\n",
      "conv_pw_8_relu (ReLU)        (None, 14, 14, 512)       0         \n",
      "_________________________________________________________________\n",
      "conv_dw_9 (DepthwiseConv2D)  (None, 14, 14, 512)       4608      \n",
      "_________________________________________________________________\n",
      "conv_dw_9_bn (BatchNormaliza (None, 14, 14, 512)       2048      \n",
      "_________________________________________________________________\n",
      "conv_dw_9_relu (ReLU)        (None, 14, 14, 512)       0         \n",
      "_________________________________________________________________\n",
      "conv_pw_9 (Conv2D)           (None, 14, 14, 512)       262144    \n",
      "_________________________________________________________________\n",
      "conv_pw_9_bn (BatchNormaliza (None, 14, 14, 512)       2048      \n",
      "_________________________________________________________________\n",
      "conv_pw_9_relu (ReLU)        (None, 14, 14, 512)       0         \n",
      "_________________________________________________________________\n",
      "conv_dw_10 (DepthwiseConv2D) (None, 14, 14, 512)       4608      \n",
      "_________________________________________________________________\n",
      "conv_dw_10_bn (BatchNormaliz (None, 14, 14, 512)       2048      \n",
      "_________________________________________________________________\n",
      "conv_dw_10_relu (ReLU)       (None, 14, 14, 512)       0         \n",
      "_________________________________________________________________\n",
      "conv_pw_10 (Conv2D)          (None, 14, 14, 512)       262144    \n",
      "_________________________________________________________________\n",
      "conv_pw_10_bn (BatchNormaliz (None, 14, 14, 512)       2048      \n",
      "_________________________________________________________________\n",
      "conv_pw_10_relu (ReLU)       (None, 14, 14, 512)       0         \n",
      "_________________________________________________________________\n",
      "conv_dw_11 (DepthwiseConv2D) (None, 14, 14, 512)       4608      \n",
      "_________________________________________________________________\n",
      "conv_dw_11_bn (BatchNormaliz (None, 14, 14, 512)       2048      \n",
      "_________________________________________________________________\n",
      "conv_dw_11_relu (ReLU)       (None, 14, 14, 512)       0         \n",
      "_________________________________________________________________\n",
      "conv_pw_11 (Conv2D)          (None, 14, 14, 512)       262144    \n",
      "_________________________________________________________________\n",
      "conv_pw_11_bn (BatchNormaliz (None, 14, 14, 512)       2048      \n",
      "_________________________________________________________________\n",
      "conv_pw_11_relu (ReLU)       (None, 14, 14, 512)       0         \n",
      "_________________________________________________________________\n",
      "conv_pad_12 (ZeroPadding2D)  (None, 15, 15, 512)       0         \n",
      "_________________________________________________________________\n",
      "conv_dw_12 (DepthwiseConv2D) (None, 7, 7, 512)         4608      \n",
      "_________________________________________________________________\n",
      "conv_dw_12_bn (BatchNormaliz (None, 7, 7, 512)         2048      \n",
      "_________________________________________________________________\n",
      "conv_dw_12_relu (ReLU)       (None, 7, 7, 512)         0         \n",
      "_________________________________________________________________\n",
      "conv_pw_12 (Conv2D)          (None, 7, 7, 1024)        524288    \n",
      "_________________________________________________________________\n",
      "conv_pw_12_bn (BatchNormaliz (None, 7, 7, 1024)        4096      \n",
      "_________________________________________________________________\n",
      "conv_pw_12_relu (ReLU)       (None, 7, 7, 1024)        0         \n",
      "_________________________________________________________________\n",
      "conv_dw_13 (DepthwiseConv2D) (None, 7, 7, 1024)        9216      \n",
      "_________________________________________________________________\n",
      "conv_dw_13_bn (BatchNormaliz (None, 7, 7, 1024)        4096      \n",
      "_________________________________________________________________\n",
      "conv_dw_13_relu (ReLU)       (None, 7, 7, 1024)        0         \n",
      "_________________________________________________________________\n",
      "conv_pw_13 (Conv2D)          (None, 7, 7, 1024)        1048576   \n",
      "_________________________________________________________________\n",
      "conv_pw_13_bn (BatchNormaliz (None, 7, 7, 1024)        4096      \n",
      "_________________________________________________________________\n",
      "conv_pw_13_relu (ReLU)       (None, 7, 7, 1024)        0         \n",
      "_________________________________________________________________\n",
      "global_average_pooling2d (Gl (None, 1024)              0         \n",
      "_________________________________________________________________\n",
      "reshape_1 (Reshape)          (None, 1, 1, 1024)        0         \n",
      "_________________________________________________________________\n",
      "dropout (Dropout)            (None, 1, 1, 1024)        0         \n",
      "_________________________________________________________________\n",
      "conv_preds (Conv2D)          (None, 1, 1, 1000)        1025000   \n",
      "_________________________________________________________________\n",
      "reshape_2 (Reshape)          (None, 1000)              0         \n",
      "_________________________________________________________________\n",
      "predictions (Activation)     (None, 1000)              0         \n",
      "=================================================================\n",
      "Total params: 4,253,864\n",
      "Trainable params: 4,231,976\n",
      "Non-trainable params: 21,888\n",
      "_________________________________________________________________\n"
     ]
    }
   ],
   "source": [
    "mobile_net.summary ()"
   ]
  },
  {
   "cell_type": "code",
   "execution_count": 108,
   "metadata": {},
   "outputs": [
    {
     "data": {
      "text/plain": [
       "93"
      ]
     },
     "execution_count": 108,
     "metadata": {},
     "output_type": "execute_result"
    }
   ],
   "source": [
    "len (mobile_net.layers)"
   ]
  },
  {
   "cell_type": "code",
   "execution_count": 110,
   "metadata": {},
   "outputs": [],
   "source": [
    "# Arquitectura del modelo\n",
    "\n",
    "# Excluir las ultimas 5 capas del modelo\n",
    "# Incluye hasta global_average_pooling2d\n",
    "\n",
    "x = mobile_net.layers [-6].output\n",
    "\n",
    "# Crear una nueva capa densa para predicciones. 7 categorías\n",
    "\n",
    "x = Dropout (0.25)(x) # Dropout reduce el overfitting al train\n",
    "\n",
    "predictions = Dense (7, activation = 'softmax')(x)\n",
    "\n",
    "model = Model (inputs = mobile_net.input, outputs = predictions)"
   ]
  },
  {
   "cell_type": "code",
   "execution_count": 111,
   "metadata": {},
   "outputs": [
    {
     "name": "stdout",
     "output_type": "stream",
     "text": [
      "Model: \"model\"\n",
      "_________________________________________________________________\n",
      "Layer (type)                 Output Shape              Param #   \n",
      "=================================================================\n",
      "input_1 (InputLayer)         [(None, 224, 224, 3)]     0         \n",
      "_________________________________________________________________\n",
      "conv1_pad (ZeroPadding2D)    (None, 225, 225, 3)       0         \n",
      "_________________________________________________________________\n",
      "conv1 (Conv2D)               (None, 112, 112, 32)      864       \n",
      "_________________________________________________________________\n",
      "conv1_bn (BatchNormalization (None, 112, 112, 32)      128       \n",
      "_________________________________________________________________\n",
      "conv1_relu (ReLU)            (None, 112, 112, 32)      0         \n",
      "_________________________________________________________________\n",
      "conv_dw_1 (DepthwiseConv2D)  (None, 112, 112, 32)      288       \n",
      "_________________________________________________________________\n",
      "conv_dw_1_bn (BatchNormaliza (None, 112, 112, 32)      128       \n",
      "_________________________________________________________________\n",
      "conv_dw_1_relu (ReLU)        (None, 112, 112, 32)      0         \n",
      "_________________________________________________________________\n",
      "conv_pw_1 (Conv2D)           (None, 112, 112, 64)      2048      \n",
      "_________________________________________________________________\n",
      "conv_pw_1_bn (BatchNormaliza (None, 112, 112, 64)      256       \n",
      "_________________________________________________________________\n",
      "conv_pw_1_relu (ReLU)        (None, 112, 112, 64)      0         \n",
      "_________________________________________________________________\n",
      "conv_pad_2 (ZeroPadding2D)   (None, 113, 113, 64)      0         \n",
      "_________________________________________________________________\n",
      "conv_dw_2 (DepthwiseConv2D)  (None, 56, 56, 64)        576       \n",
      "_________________________________________________________________\n",
      "conv_dw_2_bn (BatchNormaliza (None, 56, 56, 64)        256       \n",
      "_________________________________________________________________\n",
      "conv_dw_2_relu (ReLU)        (None, 56, 56, 64)        0         \n",
      "_________________________________________________________________\n",
      "conv_pw_2 (Conv2D)           (None, 56, 56, 128)       8192      \n",
      "_________________________________________________________________\n",
      "conv_pw_2_bn (BatchNormaliza (None, 56, 56, 128)       512       \n",
      "_________________________________________________________________\n",
      "conv_pw_2_relu (ReLU)        (None, 56, 56, 128)       0         \n",
      "_________________________________________________________________\n",
      "conv_dw_3 (DepthwiseConv2D)  (None, 56, 56, 128)       1152      \n",
      "_________________________________________________________________\n",
      "conv_dw_3_bn (BatchNormaliza (None, 56, 56, 128)       512       \n",
      "_________________________________________________________________\n",
      "conv_dw_3_relu (ReLU)        (None, 56, 56, 128)       0         \n",
      "_________________________________________________________________\n",
      "conv_pw_3 (Conv2D)           (None, 56, 56, 128)       16384     \n",
      "_________________________________________________________________\n",
      "conv_pw_3_bn (BatchNormaliza (None, 56, 56, 128)       512       \n",
      "_________________________________________________________________\n",
      "conv_pw_3_relu (ReLU)        (None, 56, 56, 128)       0         \n",
      "_________________________________________________________________\n",
      "conv_pad_4 (ZeroPadding2D)   (None, 57, 57, 128)       0         \n",
      "_________________________________________________________________\n",
      "conv_dw_4 (DepthwiseConv2D)  (None, 28, 28, 128)       1152      \n",
      "_________________________________________________________________\n",
      "conv_dw_4_bn (BatchNormaliza (None, 28, 28, 128)       512       \n",
      "_________________________________________________________________\n",
      "conv_dw_4_relu (ReLU)        (None, 28, 28, 128)       0         \n",
      "_________________________________________________________________\n",
      "conv_pw_4 (Conv2D)           (None, 28, 28, 256)       32768     \n",
      "_________________________________________________________________\n",
      "conv_pw_4_bn (BatchNormaliza (None, 28, 28, 256)       1024      \n",
      "_________________________________________________________________\n",
      "conv_pw_4_relu (ReLU)        (None, 28, 28, 256)       0         \n",
      "_________________________________________________________________\n",
      "conv_dw_5 (DepthwiseConv2D)  (None, 28, 28, 256)       2304      \n",
      "_________________________________________________________________\n",
      "conv_dw_5_bn (BatchNormaliza (None, 28, 28, 256)       1024      \n",
      "_________________________________________________________________\n",
      "conv_dw_5_relu (ReLU)        (None, 28, 28, 256)       0         \n",
      "_________________________________________________________________\n",
      "conv_pw_5 (Conv2D)           (None, 28, 28, 256)       65536     \n",
      "_________________________________________________________________\n",
      "conv_pw_5_bn (BatchNormaliza (None, 28, 28, 256)       1024      \n",
      "_________________________________________________________________\n",
      "conv_pw_5_relu (ReLU)        (None, 28, 28, 256)       0         \n",
      "_________________________________________________________________\n",
      "conv_pad_6 (ZeroPadding2D)   (None, 29, 29, 256)       0         \n",
      "_________________________________________________________________\n",
      "conv_dw_6 (DepthwiseConv2D)  (None, 14, 14, 256)       2304      \n",
      "_________________________________________________________________\n",
      "conv_dw_6_bn (BatchNormaliza (None, 14, 14, 256)       1024      \n",
      "_________________________________________________________________\n",
      "conv_dw_6_relu (ReLU)        (None, 14, 14, 256)       0         \n",
      "_________________________________________________________________\n",
      "conv_pw_6 (Conv2D)           (None, 14, 14, 512)       131072    \n",
      "_________________________________________________________________\n",
      "conv_pw_6_bn (BatchNormaliza (None, 14, 14, 512)       2048      \n",
      "_________________________________________________________________\n",
      "conv_pw_6_relu (ReLU)        (None, 14, 14, 512)       0         \n",
      "_________________________________________________________________\n",
      "conv_dw_7 (DepthwiseConv2D)  (None, 14, 14, 512)       4608      \n",
      "_________________________________________________________________\n",
      "conv_dw_7_bn (BatchNormaliza (None, 14, 14, 512)       2048      \n",
      "_________________________________________________________________\n",
      "conv_dw_7_relu (ReLU)        (None, 14, 14, 512)       0         \n",
      "_________________________________________________________________\n",
      "conv_pw_7 (Conv2D)           (None, 14, 14, 512)       262144    \n",
      "_________________________________________________________________\n",
      "conv_pw_7_bn (BatchNormaliza (None, 14, 14, 512)       2048      \n",
      "_________________________________________________________________\n",
      "conv_pw_7_relu (ReLU)        (None, 14, 14, 512)       0         \n",
      "_________________________________________________________________\n",
      "conv_dw_8 (DepthwiseConv2D)  (None, 14, 14, 512)       4608      \n",
      "_________________________________________________________________\n",
      "conv_dw_8_bn (BatchNormaliza (None, 14, 14, 512)       2048      \n",
      "_________________________________________________________________\n",
      "conv_dw_8_relu (ReLU)        (None, 14, 14, 512)       0         \n",
      "_________________________________________________________________\n",
      "conv_pw_8 (Conv2D)           (None, 14, 14, 512)       262144    \n",
      "_________________________________________________________________\n",
      "conv_pw_8_bn (BatchNormaliza (None, 14, 14, 512)       2048      \n",
      "_________________________________________________________________\n",
      "conv_pw_8_relu (ReLU)        (None, 14, 14, 512)       0         \n",
      "_________________________________________________________________\n",
      "conv_dw_9 (DepthwiseConv2D)  (None, 14, 14, 512)       4608      \n",
      "_________________________________________________________________\n",
      "conv_dw_9_bn (BatchNormaliza (None, 14, 14, 512)       2048      \n",
      "_________________________________________________________________\n",
      "conv_dw_9_relu (ReLU)        (None, 14, 14, 512)       0         \n",
      "_________________________________________________________________\n",
      "conv_pw_9 (Conv2D)           (None, 14, 14, 512)       262144    \n",
      "_________________________________________________________________\n",
      "conv_pw_9_bn (BatchNormaliza (None, 14, 14, 512)       2048      \n",
      "_________________________________________________________________\n",
      "conv_pw_9_relu (ReLU)        (None, 14, 14, 512)       0         \n",
      "_________________________________________________________________\n",
      "conv_dw_10 (DepthwiseConv2D) (None, 14, 14, 512)       4608      \n",
      "_________________________________________________________________\n",
      "conv_dw_10_bn (BatchNormaliz (None, 14, 14, 512)       2048      \n",
      "_________________________________________________________________\n",
      "conv_dw_10_relu (ReLU)       (None, 14, 14, 512)       0         \n",
      "_________________________________________________________________\n",
      "conv_pw_10 (Conv2D)          (None, 14, 14, 512)       262144    \n",
      "_________________________________________________________________\n",
      "conv_pw_10_bn (BatchNormaliz (None, 14, 14, 512)       2048      \n",
      "_________________________________________________________________\n",
      "conv_pw_10_relu (ReLU)       (None, 14, 14, 512)       0         \n",
      "_________________________________________________________________\n",
      "conv_dw_11 (DepthwiseConv2D) (None, 14, 14, 512)       4608      \n",
      "_________________________________________________________________\n",
      "conv_dw_11_bn (BatchNormaliz (None, 14, 14, 512)       2048      \n",
      "_________________________________________________________________\n",
      "conv_dw_11_relu (ReLU)       (None, 14, 14, 512)       0         \n",
      "_________________________________________________________________\n",
      "conv_pw_11 (Conv2D)          (None, 14, 14, 512)       262144    \n",
      "_________________________________________________________________\n",
      "conv_pw_11_bn (BatchNormaliz (None, 14, 14, 512)       2048      \n",
      "_________________________________________________________________\n",
      "conv_pw_11_relu (ReLU)       (None, 14, 14, 512)       0         \n",
      "_________________________________________________________________\n",
      "conv_pad_12 (ZeroPadding2D)  (None, 15, 15, 512)       0         \n",
      "_________________________________________________________________\n",
      "conv_dw_12 (DepthwiseConv2D) (None, 7, 7, 512)         4608      \n",
      "_________________________________________________________________\n",
      "conv_dw_12_bn (BatchNormaliz (None, 7, 7, 512)         2048      \n",
      "_________________________________________________________________\n",
      "conv_dw_12_relu (ReLU)       (None, 7, 7, 512)         0         \n",
      "_________________________________________________________________\n",
      "conv_pw_12 (Conv2D)          (None, 7, 7, 1024)        524288    \n",
      "_________________________________________________________________\n",
      "conv_pw_12_bn (BatchNormaliz (None, 7, 7, 1024)        4096      \n",
      "_________________________________________________________________\n",
      "conv_pw_12_relu (ReLU)       (None, 7, 7, 1024)        0         \n",
      "_________________________________________________________________\n",
      "conv_dw_13 (DepthwiseConv2D) (None, 7, 7, 1024)        9216      \n",
      "_________________________________________________________________\n",
      "conv_dw_13_bn (BatchNormaliz (None, 7, 7, 1024)        4096      \n",
      "_________________________________________________________________\n",
      "conv_dw_13_relu (ReLU)       (None, 7, 7, 1024)        0         \n",
      "_________________________________________________________________\n",
      "conv_pw_13 (Conv2D)          (None, 7, 7, 1024)        1048576   \n",
      "_________________________________________________________________\n",
      "conv_pw_13_bn (BatchNormaliz (None, 7, 7, 1024)        4096      \n",
      "_________________________________________________________________\n",
      "conv_pw_13_relu (ReLU)       (None, 7, 7, 1024)        0         \n",
      "_________________________________________________________________\n",
      "global_average_pooling2d (Gl (None, 1024)              0         \n",
      "_________________________________________________________________\n",
      "dropout (Dropout)            (None, 1024)              0         \n",
      "_________________________________________________________________\n",
      "dense (Dense)                (None, 7)                 7175      \n",
      "=================================================================\n",
      "Total params: 3,236,039\n",
      "Trainable params: 3,214,151\n",
      "Non-trainable params: 21,888\n",
      "_________________________________________________________________\n"
     ]
    }
   ],
   "source": [
    "model.summary ()"
   ]
  },
  {
   "cell_type": "code",
   "execution_count": 112,
   "metadata": {},
   "outputs": [
    {
     "data": {
      "text/plain": [
       "90"
      ]
     },
     "execution_count": 112,
     "metadata": {},
     "output_type": "execute_result"
    }
   ],
   "source": [
    "len (model.layers)"
   ]
  },
  {
   "cell_type": "code",
   "execution_count": 113,
   "metadata": {},
   "outputs": [],
   "source": [
    "# Elección de capas a ser entrenadas, las ultimas 23\n",
    "\n",
    "# Las demas no se entrenan\n",
    "\n",
    "for layer in mobile_net.layers [:-23]:\n",
    "    layer.trainable = False"
   ]
  },
  {
   "cell_type": "code",
   "execution_count": null,
   "metadata": {},
   "outputs": [],
   "source": []
  },
  {
   "cell_type": "markdown",
   "metadata": {},
   "source": [
    "# Entrenar el modelo\n",
    "\n",
    "def top_3_accuracy(y_true, y_pred):\n",
    "    return top_k_categorical_accuracy(y_true, y_pred, k=3)"
   ]
  },
  {
   "cell_type": "markdown",
   "metadata": {},
   "source": [
    "def top_2_accuracy(y_true, y_pred):\n",
    "    return top_k_categorical_accuracy(y_true, y_pred, k=2)"
   ]
  },
  {
   "cell_type": "code",
   "execution_count": 114,
   "metadata": {},
   "outputs": [],
   "source": [
    "model.compile(Adam(lr=0.01), loss='categorical_crossentropy', \n",
    "              metrics=[categorical_accuracy])"
   ]
  },
  {
   "cell_type": "code",
   "execution_count": 115,
   "metadata": {},
   "outputs": [
    {
     "name": "stdout",
     "output_type": "stream",
     "text": [
      "{'akiec': 0, 'bcc': 1, 'bkl': 2, 'df': 3, 'mel': 4, 'nv': 5, 'vasc': 6}\n"
     ]
    }
   ],
   "source": [
    "print(valid_batches.class_indices)"
   ]
  },
  {
   "cell_type": "code",
   "execution_count": 116,
   "metadata": {},
   "outputs": [],
   "source": [
    "# Se le agrega peso a melanoma para ser mas sensitivo al mismo\n",
    "\n",
    "class_weights={\n",
    "    0: 1.0, # akiec\n",
    "    1: 1.0, # bcc\n",
    "    2: 1.0, # bkl\n",
    "    3: 1.0, # df\n",
    "    4: 3.0, # mel \n",
    "    5: 1.0, # nv\n",
    "    6: 1.0, # vasc\n",
    "}"
   ]
  },
  {
   "cell_type": "code",
   "execution_count": null,
   "metadata": {},
   "outputs": [],
   "source": []
  },
  {
   "cell_type": "code",
   "execution_count": null,
   "metadata": {},
   "outputs": [],
   "source": []
  },
  {
   "cell_type": "code",
   "execution_count": null,
   "metadata": {},
   "outputs": [],
   "source": []
  },
  {
   "cell_type": "code",
   "execution_count": null,
   "metadata": {},
   "outputs": [],
   "source": []
  },
  {
   "cell_type": "code",
   "execution_count": 75,
   "metadata": {},
   "outputs": [
    {
     "name": "stdout",
     "output_type": "stream",
     "text": [
      "WARNING:tensorflow:From <ipython-input-75-9dab04ad95dd>:16: Model.fit_generator (from tensorflow.python.keras.engine.training) is deprecated and will be removed in a future version.\n",
      "Instructions for updating:\n",
      "Please use Model.fit, which supports generators.\n",
      "Epoch 1/30\n",
      "908/908 [==============================] - ETA: 0s - loss: 1.6773 - categorical_accuracy: 0.5192 - top_2_accuracy: 0.7164 - top_3_accuracy: 0.8426\n",
      "Epoch 00001: val_top_3_accuracy improved from -inf to 0.93817, saving model to model.h5\n",
      "908/908 [==============================] - 485s 534ms/step - loss: 1.6773 - categorical_accuracy: 0.5192 - top_2_accuracy: 0.7164 - top_3_accuracy: 0.8426 - val_loss: 0.8432 - val_categorical_accuracy: 0.7537 - val_top_2_accuracy: 0.8731 - val_top_3_accuracy: 0.9382 - lr: 0.0100\n",
      "Epoch 2/30\n",
      "908/908 [==============================] - ETA: 0s - loss: 1.2498 - categorical_accuracy: 0.6232 - top_2_accuracy: 0.8175 - top_3_accuracy: 0.9211\n",
      "Epoch 00002: val_top_3_accuracy improved from 0.93817 to 0.97868, saving model to model.h5\n",
      "908/908 [==============================] - 494s 544ms/step - loss: 1.2498 - categorical_accuracy: 0.6232 - top_2_accuracy: 0.8175 - top_3_accuracy: 0.9211 - val_loss: 0.4679 - val_categorical_accuracy: 0.8326 - val_top_2_accuracy: 0.9232 - val_top_3_accuracy: 0.9787 - lr: 0.0100\n",
      "Epoch 3/30\n",
      "908/908 [==============================] - ETA: 0s - loss: 1.0985 - categorical_accuracy: 0.6607 - top_2_accuracy: 0.8536 - top_3_accuracy: 0.9396\n",
      "Epoch 00003: val_top_3_accuracy did not improve from 0.97868\n",
      "908/908 [==============================] - 483s 532ms/step - loss: 1.0985 - categorical_accuracy: 0.6607 - top_2_accuracy: 0.8536 - top_3_accuracy: 0.9396 - val_loss: 1.1806 - val_categorical_accuracy: 0.7388 - val_top_2_accuracy: 0.8646 - val_top_3_accuracy: 0.9062 - lr: 0.0100\n",
      "Epoch 4/30\n",
      "908/908 [==============================] - ETA: 0s - loss: 1.0003 - categorical_accuracy: 0.6948 - top_2_accuracy: 0.8658 - top_3_accuracy: 0.9499\n",
      "Epoch 00004: val_top_3_accuracy did not improve from 0.97868\n",
      "\n",
      "Epoch 00004: ReduceLROnPlateau reducing learning rate to 0.004999999888241291.\n",
      "908/908 [==============================] - 479s 528ms/step - loss: 1.0003 - categorical_accuracy: 0.6948 - top_2_accuracy: 0.8658 - top_3_accuracy: 0.9499 - val_loss: 1.3353 - val_categorical_accuracy: 0.4968 - val_top_2_accuracy: 0.8518 - val_top_3_accuracy: 0.9552 - lr: 0.0100\n",
      "Epoch 5/30\n",
      "908/908 [==============================] - ETA: 0s - loss: 0.8112 - categorical_accuracy: 0.7481 - top_2_accuracy: 0.9072 - top_3_accuracy: 0.9703\n",
      "Epoch 00005: val_top_3_accuracy did not improve from 0.97868\n",
      "908/908 [==============================] - 479s 527ms/step - loss: 0.8112 - categorical_accuracy: 0.7481 - top_2_accuracy: 0.9072 - top_3_accuracy: 0.9703 - val_loss: 0.9047 - val_categorical_accuracy: 0.6695 - val_top_2_accuracy: 0.8699 - val_top_3_accuracy: 0.9360 - lr: 0.0050\n",
      "Epoch 6/30\n",
      "908/908 [==============================] - ETA: 0s - loss: 0.7599 - categorical_accuracy: 0.7667 - top_2_accuracy: 0.9232 - top_3_accuracy: 0.9772\n",
      "Epoch 00006: val_top_3_accuracy did not improve from 0.97868\n",
      "\n",
      "Epoch 00006: ReduceLROnPlateau reducing learning rate to 0.0024999999441206455.\n",
      "908/908 [==============================] - 478s 526ms/step - loss: 0.7599 - categorical_accuracy: 0.7667 - top_2_accuracy: 0.9232 - top_3_accuracy: 0.9772 - val_loss: 0.4720 - val_categorical_accuracy: 0.8433 - val_top_2_accuracy: 0.9456 - val_top_3_accuracy: 0.9733 - lr: 0.0050\n",
      "Epoch 7/30\n",
      "908/908 [==============================] - ETA: 0s - loss: 0.6290 - categorical_accuracy: 0.8034 - top_2_accuracy: 0.9377 - top_3_accuracy: 0.9835\n",
      "Epoch 00007: val_top_3_accuracy did not improve from 0.97868\n",
      "908/908 [==============================] - 479s 528ms/step - loss: 0.6290 - categorical_accuracy: 0.8034 - top_2_accuracy: 0.9377 - top_3_accuracy: 0.9835 - val_loss: 0.5018 - val_categorical_accuracy: 0.8284 - val_top_2_accuracy: 0.9264 - val_top_3_accuracy: 0.9733 - lr: 0.0025\n",
      "Epoch 8/30\n",
      "908/908 [==============================] - ETA: 0s - loss: 0.5867 - categorical_accuracy: 0.8187 - top_2_accuracy: 0.9475 - top_3_accuracy: 0.9881\n",
      "Epoch 00008: val_top_3_accuracy did not improve from 0.97868\n",
      "\n",
      "Epoch 00008: ReduceLROnPlateau reducing learning rate to 0.0012499999720603228.\n",
      "908/908 [==============================] - 480s 529ms/step - loss: 0.5867 - categorical_accuracy: 0.8187 - top_2_accuracy: 0.9475 - top_3_accuracy: 0.9881 - val_loss: 0.4342 - val_categorical_accuracy: 0.8699 - val_top_2_accuracy: 0.9424 - val_top_3_accuracy: 0.9744 - lr: 0.0025\n",
      "Epoch 9/30\n",
      "908/908 [==============================] - ETA: 0s - loss: 0.5061 - categorical_accuracy: 0.8392 - top_2_accuracy: 0.9565 - top_3_accuracy: 0.9902\n",
      "Epoch 00009: val_top_3_accuracy improved from 0.97868 to 0.97974, saving model to model.h5\n",
      "908/908 [==============================] - 481s 530ms/step - loss: 0.5061 - categorical_accuracy: 0.8392 - top_2_accuracy: 0.9565 - top_3_accuracy: 0.9902 - val_loss: 0.3632 - val_categorical_accuracy: 0.8859 - val_top_2_accuracy: 0.9552 - val_top_3_accuracy: 0.9797 - lr: 0.0012\n",
      "Epoch 10/30\n",
      "908/908 [==============================] - ETA: 0s - loss: 0.5004 - categorical_accuracy: 0.8441 - top_2_accuracy: 0.9586 - top_3_accuracy: 0.9907\n",
      "Epoch 00010: val_top_3_accuracy did not improve from 0.97974\n",
      "908/908 [==============================] - 480s 529ms/step - loss: 0.5004 - categorical_accuracy: 0.8441 - top_2_accuracy: 0.9586 - top_3_accuracy: 0.9907 - val_loss: 0.3562 - val_categorical_accuracy: 0.8785 - val_top_2_accuracy: 0.9542 - val_top_3_accuracy: 0.9787 - lr: 0.0012\n",
      "Epoch 11/30\n",
      "908/908 [==============================] - ETA: 0s - loss: 0.4660 - categorical_accuracy: 0.8580 - top_2_accuracy: 0.9627 - top_3_accuracy: 0.9923\n",
      "Epoch 00011: val_top_3_accuracy improved from 0.97974 to 0.98188, saving model to model.h5\n",
      "908/908 [==============================] - 478s 527ms/step - loss: 0.4660 - categorical_accuracy: 0.8580 - top_2_accuracy: 0.9627 - top_3_accuracy: 0.9923 - val_loss: 0.3406 - val_categorical_accuracy: 0.8870 - val_top_2_accuracy: 0.9542 - val_top_3_accuracy: 0.9819 - lr: 0.0012\n",
      "Epoch 12/30\n",
      "908/908 [==============================] - ETA: 0s - loss: 0.4284 - categorical_accuracy: 0.8674 - top_2_accuracy: 0.9697 - top_3_accuracy: 0.9944\n",
      "Epoch 00012: val_top_3_accuracy did not improve from 0.98188\n",
      "908/908 [==============================] - 477s 525ms/step - loss: 0.4284 - categorical_accuracy: 0.8674 - top_2_accuracy: 0.9697 - top_3_accuracy: 0.9944 - val_loss: 0.4002 - val_categorical_accuracy: 0.8678 - val_top_2_accuracy: 0.9510 - val_top_3_accuracy: 0.9776 - lr: 0.0012\n",
      "Epoch 13/30\n",
      "908/908 [==============================] - ETA: 0s - loss: 0.4093 - categorical_accuracy: 0.8750 - top_2_accuracy: 0.9689 - top_3_accuracy: 0.9933\n",
      "Epoch 00013: val_top_3_accuracy did not improve from 0.98188\n",
      "\n",
      "Epoch 00013: ReduceLROnPlateau reducing learning rate to 0.0006249999860301614.\n",
      "908/908 [==============================] - 481s 530ms/step - loss: 0.4093 - categorical_accuracy: 0.8750 - top_2_accuracy: 0.9689 - top_3_accuracy: 0.9933 - val_loss: 0.3459 - val_categorical_accuracy: 0.8966 - val_top_2_accuracy: 0.9584 - val_top_3_accuracy: 0.9819 - lr: 0.0012\n",
      "Epoch 14/30\n",
      "908/908 [==============================] - ETA: 0s - loss: 0.3645 - categorical_accuracy: 0.8902 - top_2_accuracy: 0.9762 - top_3_accuracy: 0.9960\n",
      "Epoch 00014: val_top_3_accuracy did not improve from 0.98188\n",
      "908/908 [==============================] - 486s 535ms/step - loss: 0.3645 - categorical_accuracy: 0.8902 - top_2_accuracy: 0.9762 - top_3_accuracy: 0.9960 - val_loss: 0.3421 - val_categorical_accuracy: 0.8934 - val_top_2_accuracy: 0.9584 - val_top_3_accuracy: 0.9819 - lr: 6.2500e-04\n",
      "Epoch 15/30\n",
      "908/908 [==============================] - ETA: 0s - loss: 0.3479 - categorical_accuracy: 0.8931 - top_2_accuracy: 0.9770 - top_3_accuracy: 0.9961\n",
      "Epoch 00015: val_top_3_accuracy did not improve from 0.98188\n",
      "\n",
      "Epoch 00015: ReduceLROnPlateau reducing learning rate to 0.0003124999930150807.\n",
      "908/908 [==============================] - 483s 532ms/step - loss: 0.3479 - categorical_accuracy: 0.8931 - top_2_accuracy: 0.9770 - top_3_accuracy: 0.9961 - val_loss: 0.3422 - val_categorical_accuracy: 0.8987 - val_top_2_accuracy: 0.9595 - val_top_3_accuracy: 0.9755 - lr: 6.2500e-04\n"
     ]
    },
    {
     "name": "stdout",
     "output_type": "stream",
     "text": [
      "Epoch 16/30\n",
      "908/908 [==============================] - ETA: 0s - loss: 0.3252 - categorical_accuracy: 0.9021 - top_2_accuracy: 0.9814 - top_3_accuracy: 0.9963\n",
      "Epoch 00016: val_top_3_accuracy improved from 0.98188 to 0.98294, saving model to model.h5\n",
      "908/908 [==============================] - 485s 534ms/step - loss: 0.3252 - categorical_accuracy: 0.9021 - top_2_accuracy: 0.9814 - top_3_accuracy: 0.9963 - val_loss: 0.3403 - val_categorical_accuracy: 0.8923 - val_top_2_accuracy: 0.9606 - val_top_3_accuracy: 0.9829 - lr: 3.1250e-04\n",
      "Epoch 17/30\n",
      "908/908 [==============================] - ETA: 0s - loss: 0.3257 - categorical_accuracy: 0.9026 - top_2_accuracy: 0.9802 - top_3_accuracy: 0.9959\n",
      "Epoch 00017: val_top_3_accuracy did not improve from 0.98294\n",
      "908/908 [==============================] - 479s 528ms/step - loss: 0.3257 - categorical_accuracy: 0.9026 - top_2_accuracy: 0.9802 - top_3_accuracy: 0.9959 - val_loss: 0.3291 - val_categorical_accuracy: 0.9051 - val_top_2_accuracy: 0.9606 - val_top_3_accuracy: 0.9776 - lr: 3.1250e-04\n",
      "Epoch 18/30\n",
      "908/908 [==============================] - ETA: 0s - loss: 0.3057 - categorical_accuracy: 0.9068 - top_2_accuracy: 0.9812 - top_3_accuracy: 0.9983\n",
      "Epoch 00018: val_top_3_accuracy did not improve from 0.98294\n",
      "\n",
      "Epoch 00018: ReduceLROnPlateau reducing learning rate to 0.00015624999650754035.\n",
      "908/908 [==============================] - 480s 528ms/step - loss: 0.3057 - categorical_accuracy: 0.9068 - top_2_accuracy: 0.9812 - top_3_accuracy: 0.9983 - val_loss: 0.3629 - val_categorical_accuracy: 0.8870 - val_top_2_accuracy: 0.9595 - val_top_3_accuracy: 0.9829 - lr: 3.1250e-04\n",
      "Epoch 19/30\n",
      "908/908 [==============================] - ETA: 0s - loss: 0.3029 - categorical_accuracy: 0.9036 - top_2_accuracy: 0.9814 - top_3_accuracy: 0.9970\n",
      "Epoch 00019: val_top_3_accuracy did not improve from 0.98294\n",
      "908/908 [==============================] - 480s 528ms/step - loss: 0.3029 - categorical_accuracy: 0.9036 - top_2_accuracy: 0.9814 - top_3_accuracy: 0.9970 - val_loss: 0.3605 - val_categorical_accuracy: 0.8891 - val_top_2_accuracy: 0.9606 - val_top_3_accuracy: 0.9776 - lr: 1.5625e-04\n",
      "Epoch 20/30\n",
      "908/908 [==============================] - ETA: 0s - loss: 0.2831 - categorical_accuracy: 0.9115 - top_2_accuracy: 0.9845 - top_3_accuracy: 0.9970\n",
      "Epoch 00020: val_top_3_accuracy did not improve from 0.98294\n",
      "\n",
      "Epoch 00020: ReduceLROnPlateau reducing learning rate to 7.812499825377017e-05.\n",
      "908/908 [==============================] - 483s 531ms/step - loss: 0.2831 - categorical_accuracy: 0.9115 - top_2_accuracy: 0.9845 - top_3_accuracy: 0.9970 - val_loss: 0.3417 - val_categorical_accuracy: 0.8998 - val_top_2_accuracy: 0.9606 - val_top_3_accuracy: 0.9787 - lr: 1.5625e-04\n",
      "Epoch 21/30\n",
      "908/908 [==============================] - ETA: 0s - loss: 0.2915 - categorical_accuracy: 0.9081 - top_2_accuracy: 0.9804 - top_3_accuracy: 0.9968\n",
      "Epoch 00021: val_top_3_accuracy did not improve from 0.98294\n",
      "908/908 [==============================] - 479s 527ms/step - loss: 0.2915 - categorical_accuracy: 0.9081 - top_2_accuracy: 0.9804 - top_3_accuracy: 0.9968 - val_loss: 0.3399 - val_categorical_accuracy: 0.8966 - val_top_2_accuracy: 0.9616 - val_top_3_accuracy: 0.9787 - lr: 7.8125e-05\n",
      "Epoch 22/30\n",
      "908/908 [==============================] - ETA: 0s - loss: 0.2759 - categorical_accuracy: 0.9152 - top_2_accuracy: 0.9845 - top_3_accuracy: 0.9970\n",
      "Epoch 00022: val_top_3_accuracy did not improve from 0.98294\n",
      "\n",
      "Epoch 00022: ReduceLROnPlateau reducing learning rate to 3.9062499126885086e-05.\n",
      "908/908 [==============================] - 471s 519ms/step - loss: 0.2759 - categorical_accuracy: 0.9152 - top_2_accuracy: 0.9845 - top_3_accuracy: 0.9970 - val_loss: 0.3399 - val_categorical_accuracy: 0.8977 - val_top_2_accuracy: 0.9606 - val_top_3_accuracy: 0.9797 - lr: 7.8125e-05\n",
      "Epoch 23/30\n",
      "908/908 [==============================] - ETA: 0s - loss: 0.2672 - categorical_accuracy: 0.9173 - top_2_accuracy: 0.9850 - top_3_accuracy: 0.9983\n",
      "Epoch 00023: val_top_3_accuracy did not improve from 0.98294\n",
      "908/908 [==============================] - 471s 518ms/step - loss: 0.2672 - categorical_accuracy: 0.9173 - top_2_accuracy: 0.9850 - top_3_accuracy: 0.9983 - val_loss: 0.3434 - val_categorical_accuracy: 0.8977 - val_top_2_accuracy: 0.9595 - val_top_3_accuracy: 0.9808 - lr: 3.9062e-05\n",
      "Epoch 24/30\n",
      "908/908 [==============================] - ETA: 0s - loss: 0.2764 - categorical_accuracy: 0.9150 - top_2_accuracy: 0.9854 - top_3_accuracy: 0.9979\n",
      "Epoch 00024: val_top_3_accuracy did not improve from 0.98294\n",
      "\n",
      "Epoch 00024: ReduceLROnPlateau reducing learning rate to 1.9531249563442543e-05.\n",
      "908/908 [==============================] - 470s 517ms/step - loss: 0.2764 - categorical_accuracy: 0.9150 - top_2_accuracy: 0.9854 - top_3_accuracy: 0.9979 - val_loss: 0.3469 - val_categorical_accuracy: 0.8977 - val_top_2_accuracy: 0.9627 - val_top_3_accuracy: 0.9797 - lr: 3.9062e-05\n",
      "Epoch 25/30\n",
      "908/908 [==============================] - ETA: 0s - loss: 0.2759 - categorical_accuracy: 0.9138 - top_2_accuracy: 0.9850 - top_3_accuracy: 0.9980\n",
      "Epoch 00025: val_top_3_accuracy did not improve from 0.98294\n",
      "908/908 [==============================] - 480s 528ms/step - loss: 0.2759 - categorical_accuracy: 0.9138 - top_2_accuracy: 0.9850 - top_3_accuracy: 0.9980 - val_loss: 0.3481 - val_categorical_accuracy: 0.8977 - val_top_2_accuracy: 0.9606 - val_top_3_accuracy: 0.9797 - lr: 1.9531e-05\n",
      "Epoch 26/30\n",
      "908/908 [==============================] - ETA: 0s - loss: 0.2494 - categorical_accuracy: 0.9220 - top_2_accuracy: 0.9870 - top_3_accuracy: 0.9980\n",
      "Epoch 00026: val_top_3_accuracy did not improve from 0.98294\n",
      "\n",
      "Epoch 00026: ReduceLROnPlateau reducing learning rate to 1e-05.\n",
      "908/908 [==============================] - 483s 531ms/step - loss: 0.2494 - categorical_accuracy: 0.9220 - top_2_accuracy: 0.9870 - top_3_accuracy: 0.9980 - val_loss: 0.3460 - val_categorical_accuracy: 0.8977 - val_top_2_accuracy: 0.9606 - val_top_3_accuracy: 0.9819 - lr: 1.9531e-05\n",
      "Epoch 27/30\n",
      "908/908 [==============================] - ETA: 0s - loss: 0.2723 - categorical_accuracy: 0.9173 - top_2_accuracy: 0.9862 - top_3_accuracy: 0.9979\n",
      "Epoch 00027: val_top_3_accuracy did not improve from 0.98294\n",
      "908/908 [==============================] - 482s 531ms/step - loss: 0.2723 - categorical_accuracy: 0.9173 - top_2_accuracy: 0.9862 - top_3_accuracy: 0.9979 - val_loss: 0.3495 - val_categorical_accuracy: 0.9009 - val_top_2_accuracy: 0.9606 - val_top_3_accuracy: 0.9808 - lr: 1.0000e-05\n",
      "Epoch 28/30\n",
      "908/908 [==============================] - ETA: 0s - loss: 0.2726 - categorical_accuracy: 0.9170 - top_2_accuracy: 0.9868 - top_3_accuracy: 0.9976\n",
      "Epoch 00028: val_top_3_accuracy did not improve from 0.98294\n",
      "908/908 [==============================] - 482s 531ms/step - loss: 0.2726 - categorical_accuracy: 0.9170 - top_2_accuracy: 0.9868 - top_3_accuracy: 0.9976 - val_loss: 0.3477 - val_categorical_accuracy: 0.8977 - val_top_2_accuracy: 0.9616 - val_top_3_accuracy: 0.9797 - lr: 1.0000e-05\n",
      "Epoch 29/30\n",
      "908/908 [==============================] - ETA: 0s - loss: 0.2817 - categorical_accuracy: 0.9148 - top_2_accuracy: 0.9851 - top_3_accuracy: 0.9974\n",
      "Epoch 00029: val_top_3_accuracy did not improve from 0.98294\n",
      "908/908 [==============================] - 482s 530ms/step - loss: 0.2817 - categorical_accuracy: 0.9148 - top_2_accuracy: 0.9851 - top_3_accuracy: 0.9974 - val_loss: 0.3508 - val_categorical_accuracy: 0.8977 - val_top_2_accuracy: 0.9627 - val_top_3_accuracy: 0.9797 - lr: 1.0000e-05\n",
      "Epoch 30/30\n",
      "908/908 [==============================] - ETA: 0s - loss: 0.2649 - categorical_accuracy: 0.9172 - top_2_accuracy: 0.9860 - top_3_accuracy: 0.9985\n",
      "Epoch 00030: val_top_3_accuracy did not improve from 0.98294\n",
      "908/908 [==============================] - 478s 527ms/step - loss: 0.2649 - categorical_accuracy: 0.9172 - top_2_accuracy: 0.9860 - top_3_accuracy: 0.9985 - val_loss: 0.3436 - val_categorical_accuracy: 0.8998 - val_top_2_accuracy: 0.9606 - val_top_3_accuracy: 0.9797 - lr: 1.0000e-05\n"
     ]
    }
   ],
   "source": [
    "filepath = \"model.h5\"\n",
    "checkpoint = ModelCheckpoint(filepath, monitor='val_top_3_accuracy', verbose=1, \n",
    "                             save_best_only=True, mode='max')\n",
    "\n",
    "reduce_lr = ReduceLROnPlateau(monitor='val_top_3_accuracy', factor=0.5, patience=2, \n",
    "                                   verbose=1, mode='max', min_lr=0.00001)\n",
    "                              \n",
    "                              \n",
    "callbacks_list = [checkpoint, reduce_lr]\n",
    "\n",
    "history = model.fit (train_batches, steps_per_epoch=train_steps, \n",
    "                              class_weight=class_weights,\n",
    "                    validation_data=valid_batches,\n",
    "                    validation_steps=val_steps,\n",
    "                    epochs=30, verbose=1,\n",
    "                   callbacks=callbacks_list)"
   ]
  },
  {
   "cell_type": "code",
   "execution_count": null,
   "metadata": {},
   "outputs": [],
   "source": []
  },
  {
   "cell_type": "code",
   "execution_count": 76,
   "metadata": {},
   "outputs": [
    {
     "data": {
      "text/plain": [
       "['loss', 'categorical_accuracy', 'top_2_accuracy', 'top_3_accuracy']"
      ]
     },
     "execution_count": 76,
     "metadata": {},
     "output_type": "execute_result"
    }
   ],
   "source": [
    "# get the metric names so we can use evaulate_generator\n",
    "model.metrics_names"
   ]
  },
  {
   "cell_type": "code",
   "execution_count": 78,
   "metadata": {},
   "outputs": [
    {
     "name": "stdout",
     "output_type": "stream",
     "text": [
      "938/938 [==============================] - 43s 46ms/step - loss: 0.3436 - categorical_accuracy: 0.8998 - top_2_accuracy: 0.9606 - top_3_accuracy: 0.9797\n",
      "val_loss: 0.34359678626060486\n",
      "val_cat_acc: 0.8997867703437805\n",
      "val_top_2_acc: 0.9605543613433838\n",
      "val_top_3_acc: 0.9797441363334656\n"
     ]
    }
   ],
   "source": [
    "val_loss, val_cat_acc, val_top_2_acc, val_top_3_acc = \\\n",
    "model.evaluate (test_batches, \n",
    "                        steps=len(df_val))\n",
    "\n",
    "print('val_loss:', val_loss)\n",
    "print('val_cat_acc:', val_cat_acc)\n",
    "print('val_top_2_acc:', val_top_2_acc)\n",
    "print('val_top_3_acc:', val_top_3_acc)"
   ]
  },
  {
   "cell_type": "code",
   "execution_count": 79,
   "metadata": {},
   "outputs": [
    {
     "name": "stdout",
     "output_type": "stream",
     "text": [
      "938/938 [==============================] - 43s 46ms/step - loss: 0.3403 - categorical_accuracy: 0.8923 - top_2_accuracy: 0.9606 - top_3_accuracy: 0.9829\n",
      "val_loss: 0.3402833640575409\n",
      "val_cat_acc: 0.8923240900039673\n",
      "val_top_2_acc: 0.9605543613433838\n",
      "val_top_3_acc: 0.9829424023628235\n"
     ]
    }
   ],
   "source": [
    "model.load_weights('model.h5')\n",
    "\n",
    "val_loss, val_cat_acc, val_top_2_acc, val_top_3_acc = \\\n",
    "model.evaluate (test_batches, \n",
    "                        steps=len(df_val))\n",
    "\n",
    "print('val_loss:', val_loss)\n",
    "print('val_cat_acc:', val_cat_acc)\n",
    "print('val_top_2_acc:', val_top_2_acc)\n",
    "print('val_top_3_acc:', val_top_3_acc)"
   ]
  },
  {
   "cell_type": "code",
   "execution_count": null,
   "metadata": {},
   "outputs": [],
   "source": []
  },
  {
   "cell_type": "code",
   "execution_count": null,
   "metadata": {},
   "outputs": [],
   "source": []
  },
  {
   "cell_type": "code",
   "execution_count": 80,
   "metadata": {},
   "outputs": [],
   "source": [
    "# Plot de las curvas de train loss y validation\n",
    "\n",
    "acc = history.history['categorical_accuracy']\n",
    "val_acc = history.history['val_categorical_accuracy']\n",
    "loss = history.history['loss']\n",
    "val_loss = history.history['val_loss']\n",
    "train_top2_acc = history.history['top_2_accuracy']\n",
    "val_top2_acc = history.history['val_top_2_accuracy']\n",
    "train_top3_acc = history.history['top_3_accuracy']\n",
    "val_top3_acc = history.history['val_top_3_accuracy']\n",
    "epochs = range(1, len(acc) + 1)"
   ]
  },
  {
   "cell_type": "code",
   "execution_count": 94,
   "metadata": {},
   "outputs": [
    {
     "data": {
      "image/png": "[encoded data removed]",
      "text/plain": [
       "<Figure size 432x288 with 1 Axes>"
      ]
     },
     "metadata": {
      "needs_background": "light"
     },
     "output_type": "display_data"
    },
    {
     "data": {
      "text/plain": [
       "<Figure size 432x288 with 0 Axes>"
      ]
     },
     "metadata": {},
     "output_type": "display_data"
    }
   ],
   "source": [
    "plt.plot(epochs, loss, 'b', label='Training loss')\n",
    "plt.plot(epochs, val_loss, 'r', label='Validation loss')\n",
    "plt.title('Training and validation loss')\n",
    "plt.legend()\n",
    "plt.grid()\n",
    "plt.figure()\n",
    "\n",
    "plt.show ()"
   ]
  },
  {
   "cell_type": "code",
   "execution_count": 97,
   "metadata": {},
   "outputs": [
    {
     "data": {
      "image/png": "[encoded data removed]",
      "text/plain": [
       "<Figure size 432x288 with 1 Axes>"
      ]
     },
     "metadata": {
      "needs_background": "light"
     },
     "output_type": "display_data"
    },
    {
     "data": {
      "text/plain": [
       "<Figure size 432x288 with 0 Axes>"
      ]
     },
     "metadata": {},
     "output_type": "display_data"
    }
   ],
   "source": [
    "plt.plot(epochs, acc, 'b', label='Training cat acc')\n",
    "plt.plot(epochs, val_acc, 'r', label='Validation cat acc')\n",
    "plt.title('Training and validation cat accuracy')\n",
    "plt.legend()\n",
    "plt.grid ()\n",
    "plt.figure()\n",
    "\n",
    "plt.show ()"
   ]
  },
  {
   "cell_type": "code",
   "execution_count": null,
   "metadata": {},
   "outputs": [],
   "source": []
  },
  {
   "cell_type": "code",
   "execution_count": null,
   "metadata": {},
   "outputs": [],
   "source": []
  },
  {
   "cell_type": "code",
   "execution_count": 95,
   "metadata": {},
   "outputs": [],
   "source": []
  },
  {
   "cell_type": "code",
   "execution_count": 126,
   "metadata": {},
   "outputs": [],
   "source": [
    "filepath = \"model.h5\"\n"
   ]
  },
  {
   "cell_type": "code",
   "execution_count": 118,
   "metadata": {},
   "outputs": [
    {
     "name": "stdout",
     "output_type": "stream",
     "text": [
      "Epoch 1/15\n",
      "908/908 [==============================] - 484s 534ms/step - loss: 1.7110 - categorical_accuracy: 0.5095 - val_loss: 1.0925 - val_categorical_accuracy: 0.7388\n",
      "Epoch 2/15\n",
      "908/908 [==============================] - 483s 532ms/step - loss: 1.2391 - categorical_accuracy: 0.6228 - val_loss: 0.6007 - val_categorical_accuracy: 0.7814\n",
      "Epoch 3/15\n",
      "908/908 [==============================] - 479s 528ms/step - loss: 1.0665 - categorical_accuracy: 0.6728 - val_loss: 0.4831 - val_categorical_accuracy: 0.8337\n",
      "Epoch 4/15\n",
      "908/908 [==============================] - 479s 528ms/step - loss: 1.0143 - categorical_accuracy: 0.6865 - val_loss: 0.5709 - val_categorical_accuracy: 0.8486\n",
      "Epoch 5/15\n",
      "908/908 [==============================] - 477s 525ms/step - loss: 0.9456 - categorical_accuracy: 0.7121 - val_loss: 1.2805 - val_categorical_accuracy: 0.5330\n",
      "Epoch 6/15\n",
      "908/908 [==============================] - 477s 525ms/step - loss: 0.8578 - categorical_accuracy: 0.7406 - val_loss: 0.7346 - val_categorical_accuracy: 0.7484\n",
      "Epoch 7/15\n",
      "908/908 [==============================] - 476s 525ms/step - loss: 0.8164 - categorical_accuracy: 0.7500 - val_loss: 0.3786 - val_categorical_accuracy: 0.8795\n",
      "Epoch 8/15\n",
      "908/908 [==============================] - 477s 525ms/step - loss: 0.7837 - categorical_accuracy: 0.7576 - val_loss: 0.6773 - val_categorical_accuracy: 0.7612\n",
      "Epoch 9/15\n",
      "908/908 [==============================] - 477s 525ms/step - loss: 0.7372 - categorical_accuracy: 0.7739 - val_loss: 1.1481 - val_categorical_accuracy: 0.5810\n",
      "Epoch 10/15\n",
      "908/908 [==============================] - 483s 532ms/step - loss: 0.6826 - categorical_accuracy: 0.7912 - val_loss: 0.4583 - val_categorical_accuracy: 0.8497\n",
      "Epoch 11/15\n",
      "908/908 [==============================] - 480s 529ms/step - loss: 0.6730 - categorical_accuracy: 0.7943 - val_loss: 0.4266 - val_categorical_accuracy: 0.8699\n",
      "Epoch 12/15\n",
      "908/908 [==============================] - 478s 526ms/step - loss: 0.6737 - categorical_accuracy: 0.7965 - val_loss: 0.5228 - val_categorical_accuracy: 0.8188\n",
      "Epoch 13/15\n",
      "908/908 [==============================] - 477s 526ms/step - loss: 0.6341 - categorical_accuracy: 0.8100 - val_loss: 0.4175 - val_categorical_accuracy: 0.8582\n",
      "Epoch 14/15\n",
      "908/908 [==============================] - 478s 526ms/step - loss: 0.6068 - categorical_accuracy: 0.8166 - val_loss: 1.0828 - val_categorical_accuracy: 0.6951\n",
      "Epoch 15/15\n",
      "908/908 [==============================] - 479s 527ms/step - loss: 0.6028 - categorical_accuracy: 0.8206 - val_loss: 0.8035 - val_categorical_accuracy: 0.8326\n"
     ]
    }
   ],
   "source": [
    "filepath = \"model.h5\"\n",
    "\n",
    "\n",
    "history = model.fit (train_batches, steps_per_epoch=train_steps, \n",
    "                              class_weight=class_weights,\n",
    "                    validation_data=valid_batches,\n",
    "                    validation_steps=val_steps,\n",
    "                    epochs=15, verbose=1,\n",
    "                   )"
   ]
  },
  {
   "cell_type": "code",
   "execution_count": 119,
   "metadata": {},
   "outputs": [
    {
     "data": {
      "text/plain": [
       "['loss', 'categorical_accuracy']"
      ]
     },
     "execution_count": 119,
     "metadata": {},
     "output_type": "execute_result"
    }
   ],
   "source": [
    "model.metrics_names"
   ]
  },
  {
   "cell_type": "code",
   "execution_count": 123,
   "metadata": {},
   "outputs": [
    {
     "name": "stdout",
     "output_type": "stream",
     "text": [
      "938/938 [==============================] - 46s 49ms/step - loss: 0.8035 - categorical_accuracy: 0.8326\n",
      "val_loss: 0.803459644317627\n",
      "val_cat_acc: 0.8326225876808167\n"
     ]
    }
   ],
   "source": [
    "val_loss, val_cat_acc = \\\n",
    "model.evaluate (test_batches, \n",
    "                        steps=len(df_val))\n",
    "\n",
    "print('val_loss:', val_loss)\n",
    "print('val_cat_acc:', val_cat_acc)\n"
   ]
  },
  {
   "cell_type": "code",
   "execution_count": 120,
   "metadata": {},
   "outputs": [],
   "source": [
    "acc = history.history['categorical_accuracy']\n",
    "val_acc = history.history['val_categorical_accuracy']\n",
    "loss = history.history['loss']\n",
    "val_loss = history.history['val_loss']\n",
    "epochs = range(1, len(acc) + 1)"
   ]
  },
  {
   "cell_type": "code",
   "execution_count": 121,
   "metadata": {},
   "outputs": [
    {
     "data": {
      "image/png": "[encoded data removed]",
      "text/plain": [
       "<Figure size 432x288 with 1 Axes>"
      ]
     },
     "metadata": {
      "needs_background": "light"
     },
     "output_type": "display_data"
    },
    {
     "data": {
      "text/plain": [
       "<Figure size 432x288 with 0 Axes>"
      ]
     },
     "metadata": {},
     "output_type": "display_data"
    }
   ],
   "source": [
    "plt.plot(epochs, loss, 'b', label='Training loss')\n",
    "plt.plot(epochs, val_loss, 'r', label='Validation loss')\n",
    "plt.title('Training and validation loss')\n",
    "plt.legend()\n",
    "plt.grid()\n",
    "plt.figure()\n",
    "\n",
    "plt.show ()"
   ]
  },
  {
   "cell_type": "code",
   "execution_count": 122,
   "metadata": {},
   "outputs": [
    {
     "data": {
      "image/png": "[encoded data removed]",
      "text/plain": [
       "<Figure size 432x288 with 1 Axes>"
      ]
     },
     "metadata": {
      "needs_background": "light"
     },
     "output_type": "display_data"
    },
    {
     "data": {
      "text/plain": [
       "<Figure size 432x288 with 0 Axes>"
      ]
     },
     "metadata": {},
     "output_type": "display_data"
    }
   ],
   "source": [
    "plt.plot(epochs, acc, 'b', label='Training cat acc')\n",
    "plt.plot(epochs, val_acc, 'r', label='Validation cat acc')\n",
    "plt.title('Training and validation cat accuracy')\n",
    "plt.legend()\n",
    "plt.grid ()\n",
    "plt.figure()\n",
    "\n",
    "plt.show ()"
   ]
  },
  {
   "cell_type": "code",
   "execution_count": null,
   "metadata": {},
   "outputs": [],
   "source": []
  },
  {
   "cell_type": "markdown",
   "metadata": {},
   "source": [
    "# Confusion Matrix"
   ]
  },
  {
   "cell_type": "code",
   "execution_count": 128,
   "metadata": {},
   "outputs": [],
   "source": [
    "test_labels = test_batches.classes"
   ]
  },
  {
   "cell_type": "code",
   "execution_count": 129,
   "metadata": {},
   "outputs": [
    {
     "data": {
      "text/plain": [
       "array([0, 0, 0, 0, 0, 0, 0, 0, 0, 0, 0, 0, 0, 0, 0, 0, 0, 0, 0, 0, 0, 0,\n",
       "       0, 0, 0, 0, 1, 1, 1, 1, 1, 1, 1, 1, 1, 1, 1, 1, 1, 1, 1, 1, 1, 1,\n",
       "       1, 1, 1, 1, 1, 1, 1, 1, 1, 1, 1, 1, 2, 2, 2, 2, 2, 2, 2, 2, 2, 2,\n",
       "       2, 2, 2, 2, 2, 2, 2, 2, 2, 2, 2, 2, 2, 2, 2, 2, 2, 2, 2, 2, 2, 2,\n",
       "       2, 2, 2, 2, 2, 2, 2, 2, 2, 2, 2, 2, 2, 2, 2, 2, 2, 2, 2, 2, 2, 2,\n",
       "       2, 2, 2, 2, 2, 2, 2, 2, 2, 2, 2, 2, 2, 2, 2, 2, 2, 2, 2, 2, 2, 3,\n",
       "       3, 3, 3, 3, 3, 4, 4, 4, 4, 4, 4, 4, 4, 4, 4, 4, 4, 4, 4, 4, 4, 4,\n",
       "       4, 4, 4, 4, 4, 4, 4, 4, 4, 4, 4, 4, 4, 4, 4, 4, 4, 4, 4, 4, 4, 4,\n",
       "       5, 5, 5, 5, 5, 5, 5, 5, 5, 5, 5, 5, 5, 5, 5, 5, 5, 5, 5, 5, 5, 5,\n",
       "       5, 5, 5, 5, 5, 5, 5, 5, 5, 5, 5, 5, 5, 5, 5, 5, 5, 5, 5, 5, 5, 5,\n",
       "       5, 5, 5, 5, 5, 5, 5, 5, 5, 5, 5, 5, 5, 5, 5, 5, 5, 5, 5, 5, 5, 5,\n",
       "       5, 5, 5, 5, 5, 5, 5, 5, 5, 5, 5, 5, 5, 5, 5, 5, 5, 5, 5, 5, 5, 5,\n",
       "       5, 5, 5, 5, 5, 5, 5, 5, 5, 5, 5, 5, 5, 5, 5, 5, 5, 5, 5, 5, 5, 5,\n",
       "       5, 5, 5, 5, 5, 5, 5, 5, 5, 5, 5, 5, 5, 5, 5, 5, 5, 5, 5, 5, 5, 5,\n",
       "       5, 5, 5, 5, 5, 5, 5, 5, 5, 5, 5, 5, 5, 5, 5, 5, 5, 5, 5, 5, 5, 5,\n",
       "       5, 5, 5, 5, 5, 5, 5, 5, 5, 5, 5, 5, 5, 5, 5, 5, 5, 5, 5, 5, 5, 5,\n",
       "       5, 5, 5, 5, 5, 5, 5, 5, 5, 5, 5, 5, 5, 5, 5, 5, 5, 5, 5, 5, 5, 5,\n",
       "       5, 5, 5, 5, 5, 5, 5, 5, 5, 5, 5, 5, 5, 5, 5, 5, 5, 5, 5, 5, 5, 5,\n",
       "       5, 5, 5, 5, 5, 5, 5, 5, 5, 5, 5, 5, 5, 5, 5, 5, 5, 5, 5, 5, 5, 5,\n",
       "       5, 5, 5, 5, 5, 5, 5, 5, 5, 5, 5, 5, 5, 5, 5, 5, 5, 5, 5, 5, 5, 5,\n",
       "       5, 5, 5, 5, 5, 5, 5, 5, 5, 5, 5, 5, 5, 5, 5, 5, 5, 5, 5, 5, 5, 5,\n",
       "       5, 5, 5, 5, 5, 5, 5, 5, 5, 5, 5, 5, 5, 5, 5, 5, 5, 5, 5, 5, 5, 5,\n",
       "       5, 5, 5, 5, 5, 5, 5, 5, 5, 5, 5, 5, 5, 5, 5, 5, 5, 5, 5, 5, 5, 5,\n",
       "       5, 5, 5, 5, 5, 5, 5, 5, 5, 5, 5, 5, 5, 5, 5, 5, 5, 5, 5, 5, 5, 5,\n",
       "       5, 5, 5, 5, 5, 5, 5, 5, 5, 5, 5, 5, 5, 5, 5, 5, 5, 5, 5, 5, 5, 5,\n",
       "       5, 5, 5, 5, 5, 5, 5, 5, 5, 5, 5, 5, 5, 5, 5, 5, 5, 5, 5, 5, 5, 5,\n",
       "       5, 5, 5, 5, 5, 5, 5, 5, 5, 5, 5, 5, 5, 5, 5, 5, 5, 5, 5, 5, 5, 5,\n",
       "       5, 5, 5, 5, 5, 5, 5, 5, 5, 5, 5, 5, 5, 5, 5, 5, 5, 5, 5, 5, 5, 5,\n",
       "       5, 5, 5, 5, 5, 5, 5, 5, 5, 5, 5, 5, 5, 5, 5, 5, 5, 5, 5, 5, 5, 5,\n",
       "       5, 5, 5, 5, 5, 5, 5, 5, 5, 5, 5, 5, 5, 5, 5, 5, 5, 5, 5, 5, 5, 5,\n",
       "       5, 5, 5, 5, 5, 5, 5, 5, 5, 5, 5, 5, 5, 5, 5, 5, 5, 5, 5, 5, 5, 5,\n",
       "       5, 5, 5, 5, 5, 5, 5, 5, 5, 5, 5, 5, 5, 5, 5, 5, 5, 5, 5, 5, 5, 5,\n",
       "       5, 5, 5, 5, 5, 5, 5, 5, 5, 5, 5, 5, 5, 5, 5, 5, 5, 5, 5, 5, 5, 5,\n",
       "       5, 5, 5, 5, 5, 5, 5, 5, 5, 5, 5, 5, 5, 5, 5, 5, 5, 5, 5, 5, 5, 5,\n",
       "       5, 5, 5, 5, 5, 5, 5, 5, 5, 5, 5, 5, 5, 5, 5, 5, 5, 5, 5, 5, 5, 5,\n",
       "       5, 5, 5, 5, 5, 5, 5, 5, 5, 5, 5, 5, 5, 5, 5, 5, 5, 5, 5, 5, 5, 5,\n",
       "       5, 5, 5, 5, 5, 5, 5, 5, 5, 5, 5, 5, 5, 5, 5, 5, 5, 5, 5, 5, 5, 5,\n",
       "       5, 5, 5, 5, 5, 5, 5, 5, 5, 5, 5, 5, 5, 5, 5, 5, 5, 5, 5, 5, 5, 5,\n",
       "       5, 5, 5, 5, 5, 5, 5, 5, 5, 5, 5, 5, 5, 5, 5, 5, 5, 5, 5, 5, 5, 5,\n",
       "       5, 5, 5, 5, 5, 5, 5, 5, 5, 5, 5, 5, 5, 5, 5, 5, 5, 5, 5, 5, 5, 5,\n",
       "       5, 5, 5, 5, 5, 5, 5, 5, 5, 5, 5, 5, 5, 5, 5, 5, 5, 5, 5, 5, 5, 5,\n",
       "       5, 5, 5, 5, 5, 5, 5, 5, 5, 5, 5, 5, 5, 5, 5, 5, 5, 5, 5, 5, 5, 5,\n",
       "       5, 5, 5, 6, 6, 6, 6, 6, 6, 6, 6, 6, 6, 6], dtype=int32)"
      ]
     },
     "execution_count": 129,
     "metadata": {},
     "output_type": "execute_result"
    }
   ],
   "source": [
    "test_labels"
   ]
  },
  {
   "cell_type": "code",
   "execution_count": 130,
   "metadata": {},
   "outputs": [
    {
     "data": {
      "text/plain": [
       "{'akiec': 0, 'bcc': 1, 'bkl': 2, 'df': 3, 'mel': 4, 'nv': 5, 'vasc': 6}"
      ]
     },
     "execution_count": 130,
     "metadata": {},
     "output_type": "execute_result"
    }
   ],
   "source": [
    "test_batches.class_indices"
   ]
  },
  {
   "cell_type": "code",
   "execution_count": 132,
   "metadata": {},
   "outputs": [
    {
     "name": "stdout",
     "output_type": "stream",
     "text": [
      "938/938 [==============================] - 44s 47ms/step\n"
     ]
    }
   ],
   "source": [
    "predictions = model.predict (test_batches, steps = len (df_val), verbose = 1)"
   ]
  },
  {
   "cell_type": "code",
   "execution_count": 133,
   "metadata": {},
   "outputs": [
    {
     "data": {
      "text/plain": [
       "(938, 7)"
      ]
     },
     "execution_count": 133,
     "metadata": {},
     "output_type": "execute_result"
    }
   ],
   "source": [
    "predictions.shape"
   ]
  },
  {
   "cell_type": "code",
   "execution_count": 135,
   "metadata": {},
   "outputs": [],
   "source": [
    "def plot_confusion_matrix(cm, classes,\n",
    "                          normalize=False,\n",
    "                          title='Confusion matrix',\n",
    "                          cmap=plt.cm.Blues):\n",
    "    \"\"\"\n",
    "    This function prints and plots the confusion matrix.\n",
    "    Normalization can be applied by setting `normalize=True`.\n",
    "    \"\"\"\n",
    "    if normalize:\n",
    "        cm = cm.astype('float') / cm.sum(axis=1)[:, np.newaxis]\n",
    "        print(\"Normalized confusion matrix\")\n",
    "    else:\n",
    "        print('Confusion matrix, without normalization')\n",
    "\n",
    "    print(cm)\n",
    "\n",
    "    plt.imshow(cm, interpolation='nearest', cmap=cmap)\n",
    "    plt.title(title)\n",
    "    plt.colorbar()\n",
    "    tick_marks = np.arange(len(classes))\n",
    "    plt.xticks(tick_marks, classes, rotation=45)\n",
    "    plt.yticks(tick_marks, classes)\n",
    "\n",
    "    fmt = '.2f' if normalize else 'd'\n",
    "    thresh = cm.max() / 2.\n",
    "    for i, j in itertools.product(range(cm.shape[0]), range(cm.shape[1])):\n",
    "        plt.text(j, i, format(cm[i, j], fmt),\n",
    "                 horizontalalignment=\"center\",\n",
    "                 color=\"white\" if cm[i, j] > thresh else \"black\")\n",
    "\n",
    "    plt.ylabel('True label')\n",
    "    plt.xlabel('Predicted label')\n",
    "    plt.tight_layout()"
   ]
  },
  {
   "cell_type": "code",
   "execution_count": 136,
   "metadata": {},
   "outputs": [],
   "source": [
    "cm = confusion_matrix(test_labels, predictions.argmax(axis=1))"
   ]
  },
  {
   "cell_type": "code",
   "execution_count": 138,
   "metadata": {},
   "outputs": [
    {
     "data": {
      "text/plain": [
       "{'akiec': 0, 'bcc': 1, 'bkl': 2, 'df': 3, 'mel': 4, 'nv': 5, 'vasc': 6}"
      ]
     },
     "execution_count": 138,
     "metadata": {},
     "output_type": "execute_result"
    }
   ],
   "source": [
    "test_batches.class_indices"
   ]
  },
  {
   "cell_type": "code",
   "execution_count": 137,
   "metadata": {},
   "outputs": [
    {
     "name": "stdout",
     "output_type": "stream",
     "text": [
      "Confusion matrix, without normalization\n",
      "[[  0   0   2   6   9   9   0]\n",
      " [  0  13   0   6   3   8   0]\n",
      " [  0   2   4   6  18  45   0]\n",
      " [  0   0   0   3   0   3   0]\n",
      " [  0   0   0   1  16  22   0]\n",
      " [  0   2   0   5   8 735   1]\n",
      " [  0   0   0   0   0   1  10]]\n"
     ]
    },
    {
     "data": {
      "image/png": "[encoded data removed]",
      "text/plain": [
       "<Figure size 432x288 with 2 Axes>"
      ]
     },
     "metadata": {
      "needs_background": "light"
     },
     "output_type": "display_data"
    }
   ],
   "source": [
    "cm_plot_labels = ['akiec', 'bcc', 'bkl', 'df', 'mel','nv', 'vasc']\n",
    "\n",
    "plot_confusion_matrix(cm, cm_plot_labels, title='Confusion Matrix')"
   ]
  },
  {
   "cell_type": "code",
   "execution_count": 139,
   "metadata": {},
   "outputs": [],
   "source": [
    "# Get the index of the class with the highest probability score\n",
    "y_pred = np.argmax(predictions, axis=1)\n",
    "\n",
    "# Get the labels of the test images.\n",
    "y_true = test_batches.classes"
   ]
  },
  {
   "cell_type": "code",
   "execution_count": 141,
   "metadata": {},
   "outputs": [
    {
     "name": "stdout",
     "output_type": "stream",
     "text": [
      "              precision    recall  f1-score   support\n",
      "\n",
      "       akiec       0.00      0.00      0.00        26\n",
      "         bcc       0.76      0.43      0.55        30\n",
      "         bkl       0.67      0.05      0.10        75\n",
      "          df       0.11      0.50      0.18         6\n",
      "         mel       0.30      0.41      0.34        39\n",
      "          nv       0.89      0.98      0.93       751\n",
      "        vasc       0.91      0.91      0.91        11\n",
      "\n",
      "    accuracy                           0.83       938\n",
      "   macro avg       0.52      0.47      0.43       938\n",
      "weighted avg       0.82      0.83      0.80       938\n",
      "\n"
     ]
    },
    {
     "name": "stderr",
     "output_type": "stream",
     "text": [
      "/home/dani/ambiente1/lib/python3.6/site-packages/sklearn/metrics/_classification.py:1272: UndefinedMetricWarning: Precision and F-score are ill-defined and being set to 0.0 in labels with no predicted samples. Use `zero_division` parameter to control this behavior.\n",
      "  _warn_prf(average, modifier, msg_start, len(result))\n"
     ]
    }
   ],
   "source": [
    "# Generate a classification report\n",
    "report = classification_report(y_true, y_pred, target_names=cm_plot_labels)\n",
    "\n",
    "print(report)"
   ]
  },
  {
   "cell_type": "code",
   "execution_count": null,
   "metadata": {},
   "outputs": [],
   "source": []
  }
 ],
 "metadata": {
  "kernelspec": {
   "display_name": "Ambiente 1",
   "language": "python",
   "name": "ambiente1"
  },
  "language_info": {
   "codemirror_mode": {
    "name": "ipython",
    "version": 3
   },
   "file_extension": ".py",
   "mimetype": "text/x-python",
   "name": "python",
   "nbconvert_exporter": "python",
   "pygments_lexer": "ipython3",
   "version": "3.6.9"
  }
 },
 "nbformat": 4,
 "nbformat_minor": 4
}
